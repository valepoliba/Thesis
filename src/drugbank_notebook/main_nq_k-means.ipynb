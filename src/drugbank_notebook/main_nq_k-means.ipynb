{
 "cells": [
  {
   "cell_type": "code",
   "execution_count": 1,
   "metadata": {
    "pycharm": {
     "is_executing": false
    },
    "tags": []
   },
   "outputs": [],
   "source": [
    "from pydoc import importfile\n",
    "import rdflib\n",
    "import random\n",
    "import pandas as pd\n",
    "from sklearn.cluster import KMeans\n",
    "\n",
    "from rdflib import ConjunctiveGraph\n",
    "import gc, copy, datetime\n",
    "\n",
    "import os, sys\n",
    "p = os.path.abspath('..')\n",
    "sys.path.insert(1, p)\n",
    "\n",
    "from knowledge_graph import *\n",
    "\n",
    "from rdf2vec import RDF2VecTransformer\n",
    "\n",
    "from lcs_rdf_graph import LCS\n",
    "\n",
    "from rdf_graph_utils import rdf_to_plot, rdf_to_text\n",
    "\n",
    "\n",
    "def rdflib_to_kg_nquads(rdflib_g, label_predicates=[]):\n",
    "    # Iterate over quads, add s, p and o to graph and 2 edges (s-->p, p-->o)\n",
    "    # all predicates in label_predicates get excluded\n",
    "    print(rdflib_g)\n",
    "    kg = KnowledgeGraph()\n",
    "    for s, p, o, _ in rdflib_g.quads((None, None, None, None)):\n",
    "        if p not in label_predicates:\n",
    "            s_v, o_v = Vertex(str(s)), Vertex(str(o))\n",
    "            p_v = Vertex(str(p), predicate=True)\n",
    "            kg.add_vertex(s_v)\n",
    "            kg.add_vertex(p_v)\n",
    "            kg.add_vertex(o_v)\n",
    "            kg.add_edge(s_v, p_v)\n",
    "            kg.add_edge(p_v, o_v)\n",
    "\n",
    "    return kg\n",
    "\n",
    "\n",
    "def get_drug_name(graph, drug):\n",
    "    query = \"\"\"\n",
    "               SELECT ?obj\n",
    "               WHERE { ?s <http://www.w3.org/2000/01/rdf-schema#label> ?obj.\n",
    "               \"\"\".replace(\"?s\", \"<%s>\" % drug) + \"}\"\n",
    "\n",
    "    query_res = graph.query(query)\n",
    "    label = []\n",
    "    for res in query_res:\n",
    "        label.append(str(res.obj))\n",
    "\n",
    "    return label\n"
   ]
  },
  {
   "cell_type": "code",
   "execution_count": 2,
   "metadata": {
    "collapsed": false,
    "jupyter": {
     "outputs_hidden": false
    },
    "pycharm": {
     "is_executing": false,
     "name": "#%%\n"
    }
   },
   "outputs": [
    {
     "name": "stdout",
     "output_type": "stream",
     "text": [
      "Loading data... OK\n"
     ]
    }
   ],
   "source": [
    "print(end='Loading data... ', flush=True)\n",
    "g = ConjunctiveGraph()\n",
    "\n",
    "g.parse('../../datasets/drugbank/drugbank.nq', format=\"nquads\")\n",
    "print('OK')\n",
    "#\n",
    "# # Extract all database drugs' URI\n",
    "all_drugs_file = pd.read_csv('../../datasets/drugbank/all_drugs.tsv', sep='\\t')\n",
    "all_drugs = [rdflib.URIRef(x) for x in all_drugs_file['drug']]\n",
    "#\n",
    "# # Define irrelevant predicates\n",
    "predicates = pd.read_csv('../../datasets/drugbank/bad_predicates.tsv', sep='\\t')\n",
    "predicates = [rdflib.URIRef(x) for x in predicates['predicate']]\n",
    "#\n",
    "\n",
    "stop_patterns = pd.read_csv('../../datasets/drugbank/stop_patterns.tsv', sep='\\t')\n",
    "stop_patterns = [x for x in stop_patterns['stopping_patterns']]\n",
    "\n",
    "preds = pd.read_csv('../../datasets/drugbank/uninformative.tsv', sep='\\t')\n",
    "preds = [rdflib.URIRef(x) for x in preds['uninformative']]\n"
   ]
  },
  {
   "cell_type": "code",
   "execution_count": 3,
   "metadata": {
    "collapsed": false,
    "jupyter": {
     "outputs_hidden": false
    },
    "pycharm": {
     "is_executing": false,
     "name": "#%%\n"
    }
   },
   "outputs": [
    {
     "name": "stdout",
     "output_type": "stream",
     "text": [
      "[a rdflib:ConjunctiveGraph;rdflib:storage [a rdflib:Store;rdfs:label 'Memory']]\n",
      "ok:7754\n",
      "not imported: 5\n"
     ]
    },
    {
     "data": {
      "text/plain": [
       "0"
      ]
     },
     "execution_count": 3,
     "metadata": {},
     "output_type": "execute_result"
    }
   ],
   "source": [
    "kg = rdflib_to_kg_nquads(g, label_predicates=predicates)\n",
    "\n",
    "del g\n",
    "gc.collect()\n",
    "\n",
    "#\n",
    "# # %%\n",
    "# # estraggo un'istanza di knowledge graph per ogni drug presente in quello iniziale\n",
    "\n",
    "kg_depth = 4\n",
    "\n",
    "i = 0\n",
    "j = 0\n",
    "\n",
    "kv = []\n",
    "drugs = []\n",
    "graphs = []\n",
    "\n",
    "for drug in all_drugs:\n",
    "    try:\n",
    "        gi = extract_instance(kg, drug, kg_depth)\n",
    "        graphs.append(gi)\n",
    "        drugs.append(drug)\n",
    "        kv.append({'graph': gi, 'resource': drug})\n",
    "        i += 1\n",
    "    except Exception as e:\n",
    "        j += 1\n",
    "\n",
    "print('ok:' + str(i))\n",
    "print('not imported: ' + str(j))\n",
    "\n",
    "del kg\n",
    "gc.collect()\n"
   ]
  },
  {
   "cell_type": "code",
   "execution_count": 4,
   "metadata": {
    "collapsed": false,
    "jupyter": {
     "outputs_hidden": false
    },
    "pycharm": {
     "is_executing": false,
     "name": "#%%\n"
    }
   },
   "outputs": [
    {
     "name": "stderr",
     "output_type": "stream",
     "text": [
      "7754it [00:05, 1425.91it/s]\n"
     ]
    },
    {
     "name": "stdout",
     "output_type": "stream",
     "text": [
      "Extracted 7754 walks for 7754 instances!\n",
      "Starting Word2Vec Model\n",
      "Word2Vec Ended\n",
      "Transform.\n"
     ]
    }
   ],
   "source": [
    "# # Embeddings\n",
    "transformer = RDF2VecTransformer(wl=False, max_path_depth=4, vector_size=15, walks_per_graph=1)\n",
    "# transformer = RDF2VecTransformer()\n",
    "transformer.fit(graphs, drugs)\n",
    "embeddings = transformer.transform(graphs, drugs)\n",
    "\n"
   ]
  },
  {
   "cell_type": "code",
   "execution_count": 5,
   "metadata": {
    "collapsed": false,
    "jupyter": {
     "outputs_hidden": false
    },
    "pycharm": {
     "is_executing": false,
     "name": "#%%\n"
    }
   },
   "outputs": [
    {
     "name": "stdout",
     "output_type": "stream",
     "text": [
      "clustering models created\n"
     ]
    }
   ],
   "source": [
    "# STAMPO PER OGNI RISORSA IL CLUSTER A CUI CORRISPONDE, IN MODO DA POTERNE PRELEVARE PER IL MOMENTO\n",
    "# DUE APPARTENENTI ALLO STESSO CLUSTER\n",
    "kmeans = KMeans(n_clusters=250)\n",
    "km = kmeans.fit(embeddings)\n",
    "y_kmeans = kmeans.predict(embeddings)\n",
    "\n",
    "print(\"clustering models created\")"
   ]
  },
  {
   "cell_type": "code",
   "execution_count": 6,
   "metadata": {
    "collapsed": false,
    "jupyter": {
     "outputs_hidden": false
    },
    "pycharm": {
     "is_executing": false,
     "name": "#%%\n"
    }
   },
   "outputs": [],
   "source": [
    "\n",
    "from pathlib import Path\n",
    "\n",
    "\n",
    "clusters = {i: [] for i in range(kmeans.n_clusters)}\n",
    "i = 0\n",
    "for j in y_kmeans:\n",
    "    clusters[j].append(i)\n",
    "    i += 1\n",
    "\n",
    "# Save clusters obtained from kmeans\n",
    "#file = open(\"../../datasets/drugbank/clusters_log/kmeans_125_\" + str(datetime.datetime.now()), \"a\")\n",
    "file = open(\"../../datasets/drugbank/clusters_log/kmeans_125_\", \"a\")\n",
    "file.write(str(clusters))\n",
    "file.close()\n"
   ]
  },
  {
   "cell_type": "code",
   "execution_count": 7,
   "metadata": {
    "collapsed": false,
    "jupyter": {
     "outputs_hidden": false
    },
    "pycharm": {
     "is_executing": false,
     "name": "#%%\n"
    }
   },
   "outputs": [
    {
     "name": "stdout",
     "output_type": "stream",
     "text": [
      "cluster 0 with dimension: 34\n",
      "cluster 1 with dimension: 14\n",
      "cluster 2 with dimension: 47\n",
      "cluster 3 with dimension: 14\n",
      "cluster 4 with dimension: 28\n",
      "cluster 5 with dimension: 14\n",
      "cluster 6 with dimension: 26\n",
      "cluster 7 with dimension: 33\n",
      "cluster 8 with dimension: 20\n",
      "cluster 9 with dimension: 26\n",
      "cluster 10 with dimension: 34\n",
      "cluster 11 with dimension: 29\n",
      "cluster 12 with dimension: 31\n",
      "cluster 13 with dimension: 36\n",
      "cluster 14 with dimension: 36\n",
      "cluster 15 with dimension: 22\n",
      "cluster 16 with dimension: 41\n",
      "cluster 17 with dimension: 17\n",
      "cluster 18 with dimension: 18\n",
      "cluster 19 with dimension: 37\n",
      "cluster 20 with dimension: 38\n",
      "cluster 21 with dimension: 22\n",
      "cluster 22 with dimension: 22\n",
      "cluster 23 with dimension: 34\n",
      "cluster 24 with dimension: 28\n",
      "cluster 25 with dimension: 49\n",
      "cluster 26 with dimension: 32\n",
      "cluster 27 with dimension: 27\n",
      "cluster 28 with dimension: 8\n",
      "cluster 29 with dimension: 23\n",
      "cluster 30 with dimension: 34\n",
      "cluster 31 with dimension: 11\n",
      "cluster 32 with dimension: 43\n",
      "cluster 33 with dimension: 12\n",
      "cluster 34 with dimension: 38\n",
      "cluster 35 with dimension: 32\n",
      "cluster 36 with dimension: 42\n",
      "cluster 37 with dimension: 27\n",
      "cluster 38 with dimension: 37\n",
      "cluster 39 with dimension: 38\n",
      "cluster 40 with dimension: 43\n",
      "cluster 41 with dimension: 12\n",
      "cluster 42 with dimension: 45\n",
      "cluster 43 with dimension: 42\n",
      "cluster 44 with dimension: 52\n",
      "cluster 45 with dimension: 31\n",
      "cluster 46 with dimension: 27\n",
      "cluster 47 with dimension: 26\n",
      "cluster 48 with dimension: 18\n",
      "cluster 49 with dimension: 38\n",
      "cluster 50 with dimension: 29\n",
      "cluster 51 with dimension: 10\n",
      "cluster 52 with dimension: 27\n",
      "cluster 53 with dimension: 39\n",
      "cluster 54 with dimension: 16\n",
      "cluster 55 with dimension: 20\n",
      "cluster 56 with dimension: 37\n",
      "cluster 57 with dimension: 20\n",
      "cluster 58 with dimension: 18\n",
      "cluster 59 with dimension: 18\n",
      "cluster 60 with dimension: 42\n",
      "cluster 61 with dimension: 38\n",
      "cluster 62 with dimension: 23\n",
      "cluster 63 with dimension: 49\n",
      "cluster 64 with dimension: 40\n",
      "cluster 65 with dimension: 47\n",
      "cluster 66 with dimension: 39\n",
      "cluster 67 with dimension: 22\n",
      "cluster 68 with dimension: 26\n",
      "cluster 69 with dimension: 33\n",
      "cluster 70 with dimension: 26\n",
      "cluster 71 with dimension: 23\n",
      "cluster 72 with dimension: 32\n",
      "cluster 73 with dimension: 26\n",
      "cluster 74 with dimension: 34\n",
      "cluster 75 with dimension: 24\n",
      "cluster 76 with dimension: 33\n",
      "cluster 77 with dimension: 39\n",
      "cluster 78 with dimension: 42\n",
      "cluster 79 with dimension: 48\n",
      "cluster 80 with dimension: 34\n",
      "cluster 81 with dimension: 36\n",
      "cluster 82 with dimension: 29\n",
      "cluster 83 with dimension: 48\n",
      "cluster 84 with dimension: 33\n",
      "cluster 85 with dimension: 38\n",
      "cluster 86 with dimension: 18\n",
      "cluster 87 with dimension: 45\n",
      "cluster 88 with dimension: 13\n",
      "cluster 89 with dimension: 39\n",
      "cluster 90 with dimension: 38\n",
      "cluster 91 with dimension: 9\n",
      "cluster 92 with dimension: 23\n",
      "cluster 93 with dimension: 27\n",
      "cluster 94 with dimension: 36\n",
      "cluster 95 with dimension: 42\n",
      "cluster 96 with dimension: 35\n",
      "cluster 97 with dimension: 40\n",
      "cluster 98 with dimension: 30\n",
      "cluster 99 with dimension: 26\n",
      "cluster 100 with dimension: 33\n",
      "cluster 101 with dimension: 42\n",
      "cluster 102 with dimension: 31\n",
      "cluster 103 with dimension: 31\n",
      "cluster 104 with dimension: 35\n",
      "cluster 105 with dimension: 40\n",
      "cluster 106 with dimension: 26\n",
      "cluster 107 with dimension: 42\n",
      "cluster 108 with dimension: 25\n",
      "cluster 109 with dimension: 34\n",
      "cluster 110 with dimension: 29\n",
      "cluster 111 with dimension: 18\n",
      "cluster 112 with dimension: 16\n",
      "cluster 113 with dimension: 26\n",
      "cluster 114 with dimension: 27\n",
      "cluster 115 with dimension: 26\n",
      "cluster 116 with dimension: 15\n",
      "cluster 117 with dimension: 37\n",
      "cluster 118 with dimension: 32\n",
      "cluster 119 with dimension: 30\n",
      "cluster 120 with dimension: 27\n",
      "cluster 121 with dimension: 32\n",
      "cluster 122 with dimension: 31\n",
      "cluster 123 with dimension: 42\n",
      "cluster 124 with dimension: 34\n",
      "cluster 125 with dimension: 14\n",
      "cluster 126 with dimension: 44\n",
      "cluster 127 with dimension: 29\n",
      "cluster 128 with dimension: 24\n",
      "cluster 129 with dimension: 20\n",
      "cluster 130 with dimension: 25\n",
      "cluster 131 with dimension: 30\n",
      "cluster 132 with dimension: 39\n",
      "cluster 133 with dimension: 30\n",
      "cluster 134 with dimension: 34\n",
      "cluster 135 with dimension: 48\n",
      "cluster 136 with dimension: 22\n",
      "cluster 137 with dimension: 23\n",
      "cluster 138 with dimension: 16\n",
      "cluster 139 with dimension: 36\n",
      "cluster 140 with dimension: 37\n",
      "cluster 141 with dimension: 48\n",
      "cluster 142 with dimension: 37\n",
      "cluster 143 with dimension: 34\n",
      "cluster 144 with dimension: 45\n",
      "cluster 145 with dimension: 24\n",
      "cluster 146 with dimension: 34\n",
      "cluster 147 with dimension: 45\n",
      "cluster 148 with dimension: 33\n",
      "cluster 149 with dimension: 35\n",
      "cluster 150 with dimension: 27\n",
      "cluster 151 with dimension: 19\n",
      "cluster 152 with dimension: 30\n",
      "cluster 153 with dimension: 42\n",
      "cluster 154 with dimension: 35\n",
      "cluster 155 with dimension: 15\n",
      "cluster 156 with dimension: 41\n",
      "cluster 157 with dimension: 37\n",
      "cluster 158 with dimension: 22\n",
      "cluster 159 with dimension: 48\n",
      "cluster 160 with dimension: 37\n",
      "cluster 161 with dimension: 22\n",
      "cluster 162 with dimension: 36\n",
      "cluster 163 with dimension: 46\n",
      "cluster 164 with dimension: 29\n",
      "cluster 165 with dimension: 35\n",
      "cluster 166 with dimension: 21\n",
      "cluster 167 with dimension: 31\n",
      "cluster 168 with dimension: 28\n",
      "cluster 169 with dimension: 40\n",
      "cluster 170 with dimension: 33\n",
      "cluster 171 with dimension: 29\n",
      "cluster 172 with dimension: 35\n",
      "cluster 173 with dimension: 36\n",
      "cluster 174 with dimension: 47\n",
      "cluster 175 with dimension: 53\n",
      "cluster 176 with dimension: 19\n",
      "cluster 177 with dimension: 36\n",
      "cluster 178 with dimension: 41\n",
      "cluster 179 with dimension: 27\n",
      "cluster 180 with dimension: 18\n",
      "cluster 181 with dimension: 35\n",
      "cluster 182 with dimension: 50\n",
      "cluster 183 with dimension: 27\n",
      "cluster 184 with dimension: 42\n",
      "cluster 185 with dimension: 18\n",
      "cluster 186 with dimension: 50\n",
      "cluster 187 with dimension: 43\n",
      "cluster 188 with dimension: 32\n",
      "cluster 189 with dimension: 34\n",
      "cluster 190 with dimension: 25\n",
      "cluster 191 with dimension: 39\n",
      "cluster 192 with dimension: 39\n",
      "cluster 193 with dimension: 35\n",
      "cluster 194 with dimension: 18\n",
      "cluster 195 with dimension: 19\n",
      "cluster 196 with dimension: 40\n",
      "cluster 197 with dimension: 27\n",
      "cluster 198 with dimension: 39\n",
      "cluster 199 with dimension: 39\n",
      "cluster 200 with dimension: 38\n",
      "cluster 201 with dimension: 30\n",
      "cluster 202 with dimension: 16\n",
      "cluster 203 with dimension: 20\n",
      "cluster 204 with dimension: 33\n",
      "cluster 205 with dimension: 41\n",
      "cluster 206 with dimension: 47\n",
      "cluster 207 with dimension: 21\n",
      "cluster 208 with dimension: 26\n",
      "cluster 209 with dimension: 17\n",
      "cluster 210 with dimension: 24\n",
      "cluster 211 with dimension: 41\n",
      "cluster 212 with dimension: 16\n",
      "cluster 213 with dimension: 23\n",
      "cluster 214 with dimension: 28\n",
      "cluster 215 with dimension: 29\n",
      "cluster 216 with dimension: 29\n",
      "cluster 217 with dimension: 22\n",
      "cluster 218 with dimension: 30\n",
      "cluster 219 with dimension: 21\n",
      "cluster 220 with dimension: 35\n",
      "cluster 221 with dimension: 15\n",
      "cluster 222 with dimension: 19\n",
      "cluster 223 with dimension: 36\n",
      "cluster 224 with dimension: 34\n",
      "cluster 225 with dimension: 40\n",
      "cluster 226 with dimension: 30\n",
      "cluster 227 with dimension: 18\n",
      "cluster 228 with dimension: 30\n",
      "cluster 229 with dimension: 47\n",
      "cluster 230 with dimension: 35\n",
      "cluster 231 with dimension: 40\n",
      "cluster 232 with dimension: 40\n",
      "cluster 233 with dimension: 25\n",
      "cluster 234 with dimension: 28\n",
      "cluster 235 with dimension: 39\n",
      "cluster 236 with dimension: 43\n",
      "cluster 237 with dimension: 20\n",
      "cluster 238 with dimension: 23\n",
      "cluster 239 with dimension: 33\n",
      "cluster 240 with dimension: 20\n",
      "cluster 241 with dimension: 41\n",
      "cluster 242 with dimension: 32\n",
      "cluster 243 with dimension: 26\n",
      "cluster 244 with dimension: 41\n",
      "cluster 245 with dimension: 19\n",
      "cluster 246 with dimension: 14\n",
      "cluster 247 with dimension: 22\n",
      "cluster 248 with dimension: 27\n",
      "cluster 249 with dimension: 50\n"
     ]
    }
   ],
   "source": [
    "# Print clusters and their dimension\n",
    "\n",
    "for key in clusters.keys():\n",
    "    print(\"cluster \" + str(key) + \" with dimension: \" + str(len(clusters[key])))\n"
   ]
  },
  {
   "cell_type": "code",
   "execution_count": 8,
   "metadata": {
    "collapsed": false,
    "jupyter": {
     "outputs_hidden": false
    },
    "pycharm": {
     "is_executing": false,
     "name": "#%%\n"
    }
   },
   "outputs": [
    {
     "name": "stdout",
     "output_type": "stream",
     "text": [
      "esploro il cluster: 28 con dimensione 8\n",
      "[2892, 2052, 1957, 1807, 1927, 2936, 1616, 2431]\n",
      "risorsa iniziale: 2892 di dim -> 142\n"
     ]
    }
   ],
   "source": [
    "directory = \"../../outputs/drugbank/oLast_NQ_NEW\"\n",
    "if not os.path.exists(directory):\n",
    "    os.mkdir(directory)\n",
    "\n",
    "\n",
    "# cluster da analizzare\n",
    "# k = 22\n",
    "\n",
    "# seleziono il cluster con il minor numero di elementi\n",
    "\n",
    "k = min(clusters.keys(), key=lambda a: len(clusters[a]))\n",
    "\n",
    "# seleziono il cluster con il minor numero totale di archi\n",
    "\n",
    "# k = min(clusters.keys(), \n",
    "#        key=lambda key: sum(len(kg_to_rdflib(graphs[res], kg_depth)) for res in clusters[key]))\n",
    "\n",
    "# seleziono il cluster con l'elemento che ha il minor numero di archi\n",
    "\n",
    "# k = min(clusters.keys(), key=lambda key: min([len(kg_to_rdflib(graphs[res], kg_depth))\n",
    "#                                                 for res in clusters[key]]))\n",
    "\n",
    "\n",
    "clusters[k] = sorted(clusters[k],  key=lambda res: len(kg_to_rdflib(graphs[res], kg_depth)))\n",
    "\n",
    "# clusters[k] = [48, 50]\n",
    "\n",
    "L = len(clusters[k])\n",
    "\n",
    "print(\"esploro il cluster: \" + str(k) + \" con dimensione \" + str(L))\n",
    "print(clusters[k])\n",
    "# risorsa iniziale\n",
    "# resource_1 = random.choice(clusters[k])\n",
    "\n",
    "resource_1 = clusters[k].pop(0)\n",
    "\n",
    "graph_1 = graphs[resource_1]\n",
    "\n",
    "print(\"risorsa iniziale: \" + str(resource_1) + \" di dim -> \" + str(len(kg_to_rdflib(graph_1, kg_depth))))\n",
    "\n",
    "# clusters[k].remove(resource_1)\n",
    "explored_resoures = [resource_1]\n",
    "\n",
    "iteration = 0\n",
    "\n"
   ]
  },
  {
   "cell_type": "code",
   "execution_count": 9,
   "metadata": {
    "collapsed": false,
    "jupyter": {
     "outputs_hidden": false
    },
    "pycharm": {
     "is_executing": false,
     "name": "#%%\n"
    }
   },
   "outputs": [
    {
     "name": "stdout",
     "output_type": "stream",
     "text": [
      "LCS with resource: 2052 con dim: 343\n",
      "starting graphs exploration...\n",
      "exploration ended.\n",
      "filling LCS graph.\n",
      "graph completed.\n",
      "dim LCS itermedio tra [2892, 2052] \n",
      "--> 3329\n",
      "Iterazione: 0, trovato LCS tra: [2892, 2052]\n",
      "LCS with resource: 1957 con dim: 463\n",
      "multiple root nodes found. \n"
     ]
    },
    {
     "ename": "Exception",
     "evalue": "Error: multiple root nodes found.",
     "output_type": "error",
     "traceback": [
      "\u001b[1;31m---------------------------------------------------------------------------\u001b[0m",
      "\u001b[1;31mException\u001b[0m                                 Traceback (most recent call last)",
      "Cell \u001b[1;32mIn [9], line 17\u001b[0m\n\u001b[0;32m     13\u001b[0m \u001b[39m# clusters[k].remove(resource_2)\u001b[39;00m\n\u001b[0;32m     14\u001b[0m \n\u001b[0;32m     15\u001b[0m \u001b[39m# seed\u001b[39;00m\n\u001b[0;32m     16\u001b[0m seed \u001b[39m=\u001b[39m LCS(graph_1, graph_2, depth\u001b[39m=\u001b[39m\u001b[39m2\u001b[39m, stop_patterns\u001b[39m=\u001b[39mstop_patterns, uninformative_triples\u001b[39m=\u001b[39mpreds)\n\u001b[1;32m---> 17\u001b[0m seed\u001b[39m.\u001b[39;49mfind()\n\u001b[0;32m     19\u001b[0m explored_resoures\u001b[39m.\u001b[39mappend(resource_2)\n\u001b[0;32m     21\u001b[0m \u001b[39mprint\u001b[39m(\u001b[39m\"\u001b[39m\u001b[39mdim LCS itermedio tra \u001b[39m\u001b[39m\"\u001b[39m \u001b[39m+\u001b[39m \u001b[39mstr\u001b[39m(explored_resoures) \u001b[39m+\u001b[39m \u001b[39m\"\u001b[39m\u001b[39m \u001b[39m\u001b[39m\\n\u001b[39;00m\u001b[39m--> \u001b[39m\u001b[39m\"\u001b[39m \u001b[39m+\u001b[39m \u001b[39mstr\u001b[39m(\u001b[39mlen\u001b[39m(seed)))\n",
      "File \u001b[1;32md:\\Università\\Magistrale\\Magistrale\\Tesi\\Thesis\\src\\lcs_rdf_graph.py:54\u001b[0m, in \u001b[0;36mLCS.find\u001b[1;34m(self)\u001b[0m\n\u001b[0;32m     47\u001b[0m \u001b[39mdef\u001b[39;00m \u001b[39mfind\u001b[39m(\u001b[39mself\u001b[39m):\n\u001b[0;32m     48\u001b[0m     \u001b[39m\"\"\"\u001b[39;00m\n\u001b[0;32m     49\u001b[0m \u001b[39m    funzione per la costruzione del grafo LCS a partire dai root node dei due grafi dati come parametro\u001b[39;00m\n\u001b[0;32m     50\u001b[0m \u001b[39m    avvia la funzione ricorsiva explore che verificherà tutte le triple\u001b[39;00m\n\u001b[0;32m     51\u001b[0m \u001b[39m    successivamente il grafo LCS verrà completato con tutti i sotto grafi CS identificati\u001b[39;00m\n\u001b[0;32m     52\u001b[0m \u001b[39m    :return:\u001b[39;00m\n\u001b[0;32m     53\u001b[0m \u001b[39m    \"\"\"\u001b[39;00m\n\u001b[1;32m---> 54\u001b[0m     a \u001b[39m=\u001b[39m root_node(\u001b[39mself\u001b[39;49m\u001b[39m.\u001b[39;49ma_T)\n\u001b[0;32m     55\u001b[0m     b \u001b[39m=\u001b[39m root_node(\u001b[39mself\u001b[39m\u001b[39m.\u001b[39mb_T)\n\u001b[0;32m     57\u001b[0m     \u001b[39mprint\u001b[39m(\u001b[39m\"\u001b[39m\u001b[39mstarting graphs exploration...\u001b[39m\u001b[39m\"\u001b[39m)\n",
      "File \u001b[1;32md:\\Università\\Magistrale\\Magistrale\\Tesi\\Thesis\\src\\rdf_graph_utils.py:73\u001b[0m, in \u001b[0;36mroot_node\u001b[1;34m(graph)\u001b[0m\n\u001b[0;32m     71\u001b[0m \u001b[39mprint\u001b[39m(\u001b[39m\"\u001b[39m\u001b[39mmultiple root nodes found. \u001b[39m\u001b[39m\"\u001b[39m)\n\u001b[0;32m     72\u001b[0m \u001b[39m# return most_conncted(ss1, graph)\u001b[39;00m\n\u001b[1;32m---> 73\u001b[0m \u001b[39mraise\u001b[39;00m \u001b[39mException\u001b[39;00m(\u001b[39m\"\u001b[39m\u001b[39mError: multiple root nodes found.\u001b[39m\u001b[39m\"\u001b[39m)\n",
      "\u001b[1;31mException\u001b[0m: Error: multiple root nodes found."
     ]
    }
   ],
   "source": [
    "# file = open(directory + \"/tmp_LCS.log\", \"a\")\n",
    "\n",
    "while clusters[k]:\n",
    "    # try:\n",
    "        file = open(directory + \"/tmp_LCS.log\", \"a\")\n",
    "        \n",
    "        # resource_2 = random.choice(clusters[k])\n",
    "   \n",
    "        resource_2 = clusters[k].pop(0)\n",
    "        graph_2 = graphs[resource_2]\n",
    "        print(\"LCS with resource: \" + str(resource_2) \n",
    "              + \" con dim: \" + str(len(kg_to_rdflib(graph_2, kg_depth))))\n",
    "        # clusters[k].remove(resource_2)\n",
    "\n",
    "        # seed\n",
    "        seed = LCS(graph_1, graph_2, depth=2, stop_patterns=stop_patterns, uninformative_triples=preds)\n",
    "        seed.find()\n",
    "              \n",
    "        explored_resoures.append(resource_2)\n",
    "        \n",
    "        print(\"dim LCS itermedio tra \" + str(explored_resoures) + \" \\n--> \" + str(len(seed)))\n",
    "        \n",
    "        del graph_1\n",
    "        del graph_2\n",
    "        gc.collect()\n",
    "        \n",
    "        graph_1 = copy.deepcopy(seed)\n",
    "\n",
    "        print(\"Iterazione: \" + str(iteration) + \", trovato LCS tra: \" + str(explored_resoures))\n",
    "        rdf_to_text(seed, directory, \"turtle\", \"tmp_LCS_\" + str(iteration))\n",
    "        rdf_to_text(seed, directory, \"nt\", \"tmp_LCS_\" + str(iteration))\n",
    "        \n",
    "        del seed\n",
    "        gc.collect()\n",
    "        \n",
    "        file.write(\"Iterazione: \" + str(iteration) +  \" risorse esplorate: \" + str(explored_resoures) + \"\\n\")\n",
    "        file.close()\n",
    "        \n",
    "        iteration += 1\n",
    "        \"\"\"\n",
    "        except Exception as e:\n",
    "            print(\"got exception: \" + str(e))\n",
    "            file.close()\n",
    "        \"\"\"\n",
    "# file.close()\n",
    "\n"
   ]
  },
  {
   "cell_type": "code",
   "execution_count": null,
   "metadata": {
    "collapsed": false,
    "jupyter": {
     "outputs_hidden": false
    },
    "pycharm": {
     "is_executing": false,
     "name": "#%%\n"
    }
   },
   "outputs": [],
   "source": [
    "rdf_to_plot(graph_1, directory)\n",
    "print(\"LCS finale tra le risorse: \" + str(explored_resoures))"
   ]
  },
  {
   "cell_type": "code",
   "execution_count": null,
   "metadata": {
    "collapsed": false,
    "jupyter": {
     "outputs_hidden": false
    },
    "pycharm": {
     "is_executing": false,
     "name": "#%%\n"
    }
   },
   "outputs": [],
   "source": [
    "# SALVATAGGIO DEL GRAFO\n",
    "\n",
    "rdf_to_text(graph_1, directory, 'turtle', 'final_LCS')\n",
    "rdf_to_text(graph_1, directory, 'nt', 'final_LCS')\n",
    "file =  open(directory + \"/final_LCS_resources.log\", \"a\")\n",
    "file.write(str(explored_resoures))"
   ]
  },
  {
   "cell_type": "code",
   "execution_count": null,
   "metadata": {
    "collapsed": false,
    "jupyter": {
     "outputs_hidden": false
    },
    "pycharm": {
     "is_executing": false,
     "name": "#%%\n"
    }
   },
   "outputs": [],
   "source": [
    "print(end='Loading data... ', flush=True)\n",
    "g = ConjunctiveGraph()\n",
    "\n",
    "g.parse('../../datasets/drugbank/drugbank.nq', format=\"nquads\")\n",
    "print('OK')\n"
   ]
  },
  {
   "cell_type": "code",
   "execution_count": null,
   "metadata": {
    "collapsed": false,
    "jupyter": {
     "outputs_hidden": false
    },
    "pycharm": {
     "is_executing": false,
     "name": "#%%\n"
    }
   },
   "outputs": [],
   "source": [
    "file.write(\"\\n ####### \\n\")\n",
    "\n",
    "explored_resources_names = []\n",
    "\n",
    "for drug_index in explored_resoures:\n",
    "    drug_name = get_drug_name(g, drugs[drug_index])\n",
    "    explored_resources_names.extend(drug_name)\n",
    "\n",
    "file.write(str(explored_resources_names))\n",
    "file.close()"
   ]
  },
  {
   "cell_type": "code",
   "execution_count": null,
   "metadata": {
    "collapsed": false,
    "jupyter": {
     "outputs_hidden": false
    },
    "pycharm": {
     "is_executing": false,
     "name": "#%%\n"
    }
   },
   "outputs": [],
   "source": [
    "del g\n",
    "gc.collect()\n",
    "\n",
    "\n",
    "\n",
    "\n",
    "\n"
   ]
  }
 ],
 "metadata": {
  "kernelspec": {
   "display_name": "Python 3.8.10 64-bit (microsoft store)",
   "language": "python",
   "name": "python3"
  },
  "language_info": {
   "codemirror_mode": {
    "name": "ipython",
    "version": 3
   },
   "file_extension": ".py",
   "mimetype": "text/x-python",
   "name": "python",
   "nbconvert_exporter": "python",
   "pygments_lexer": "ipython3",
   "version": "3.8.10"
  },
  "pycharm": {
   "stem_cell": {
    "cell_type": "raw",
    "metadata": {
     "collapsed": false
    },
    "source": []
   }
  },
  "vscode": {
   "interpreter": {
    "hash": "f337ac061ce9696b0f1ec4c1d557fc964de9fc8c97f461bc871446d45fc96448"
   }
  }
 },
 "nbformat": 4,
 "nbformat_minor": 4
}
