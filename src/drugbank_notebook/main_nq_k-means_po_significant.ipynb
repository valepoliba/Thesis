{
 "cells": [
  {
   "cell_type": "code",
   "execution_count": 1,
   "metadata": {
    "pycharm": {
     "is_executing": false
    },
    "tags": []
   },
   "outputs": [],
   "source": [
    "from pydoc import importfile\n",
    "import rdflib\n",
    "import random\n",
    "import pandas as pd\n",
    "from sklearn.cluster import KMeans\n",
    "\n",
    "from rdflib import ConjunctiveGraph\n",
    "import gc, copy, datetime\n",
    "\n",
    "import os, sys\n",
    "p = os.path.abspath('..')\n",
    "sys.path.insert(1, p)\n",
    "\n",
    "from knowledge_graph import *\n",
    "\n",
    "from rdf2vec import RDF2VecTransformer\n",
    "\n",
    "from lcs_rdf_graph_test import LCS\n",
    "\n",
    "from rdf_graph_utils import rdf_to_plot, rdf_to_text\n",
    "\n",
    "import shlex\n",
    "\n",
    "def rdflib_to_kg_nquads(rdflib_g, label_predicates=[]):\n",
    "    # Iterate over quads, add s, p and o to graph and 2 edges (s-->p, p-->o)\n",
    "    # all predicates in label_predicates get excluded\n",
    "    print(rdflib_g)\n",
    "    kg = KnowledgeGraph()\n",
    "    for s, p, o, _ in rdflib_g.quads((None, None, None, None)):\n",
    "        if p not in label_predicates:\n",
    "            s_v, o_v = Vertex(str(s)), Vertex(str(o))\n",
    "            p_v = Vertex(str(p), predicate=True)\n",
    "            kg.add_vertex(s_v)\n",
    "            kg.add_vertex(p_v)\n",
    "            kg.add_vertex(o_v)\n",
    "            kg.add_edge(s_v, p_v)\n",
    "            kg.add_edge(p_v, o_v)\n",
    "\n",
    "    return kg\n",
    "\n",
    "\n",
    "def get_drug_name(graph, drug):\n",
    "    query = \"\"\"\n",
    "               SELECT ?obj\n",
    "               WHERE { ?s <http://www.w3.org/2000/01/rdf-schema#label> ?obj.\n",
    "               \"\"\".replace(\"?s\", \"<%s>\" % drug) + \"}\"\n",
    "\n",
    "    query_res = graph.query(query)\n",
    "    label = []\n",
    "    for res in query_res:\n",
    "        label.append(str(res.obj))\n",
    "\n",
    "    return label\n"
   ]
  },
  {
   "cell_type": "code",
   "execution_count": 2,
   "metadata": {
    "collapsed": false,
    "jupyter": {
     "outputs_hidden": false
    },
    "pycharm": {
     "is_executing": false,
     "name": "#%%\n"
    }
   },
   "outputs": [
    {
     "name": "stdout",
     "output_type": "stream",
     "text": [
      "Loading data... OK\n"
     ]
    }
   ],
   "source": [
    "print(end='Loading data... ', flush=True)\n",
    "g = ConjunctiveGraph()\n",
    "\n",
    "g.parse('../../datasets/drugbank/drugbank.nq', format=\"nquads\")\n",
    "print('OK')\n",
    "#\n",
    "# # Extract all database drugs' URI\n",
    "all_drugs_file = pd.read_csv('../../datasets/drugbank/all_drugs.tsv', sep='\\t')\n",
    "all_drugs = [rdflib.URIRef(x) for x in all_drugs_file['drug']]\n",
    "#\n",
    "# # Define irrelevant predicates\n",
    "bad_predicates = pd.read_csv('../../datasets/drugbank/bad_predicates.tsv', sep='\\t')\n",
    "bad_predicates = [rdflib.URIRef(x) for x in bad_predicates['bad_predicates']]\n",
    "#\n",
    "# # Define relevant predicates\n",
    "with open('../../datasets/drugbank/good_predicates.tsv', 'r') as good_predicates:\n",
    "    gp = good_predicates.read().split()\n",
    "#\n",
    "\n",
    "stop_patterns = pd.read_csv('../../datasets/drugbank/stop_patterns.tsv', sep='\\t')\n",
    "stop_patterns = [x for x in stop_patterns['stopping_patterns']]\n",
    "\n",
    "preds = pd.read_csv('../../datasets/drugbank/uninformative.tsv', sep='\\t')\n",
    "preds = [rdflib.URIRef(x) for x in preds['uninformative']]\n"
   ]
  },
  {
   "cell_type": "code",
   "execution_count": 3,
   "metadata": {
    "collapsed": false,
    "jupyter": {
     "outputs_hidden": false
    },
    "pycharm": {
     "is_executing": false,
     "name": "#%%\n"
    }
   },
   "outputs": [
    {
     "name": "stdout",
     "output_type": "stream",
     "text": [
      "[a rdflib:ConjunctiveGraph;rdflib:storage [a rdflib:Store;rdfs:label 'Memory']]\n",
      "ok:7754\n",
      "not imported: 5\n"
     ]
    },
    {
     "data": {
      "text/plain": [
       "0"
      ]
     },
     "execution_count": 3,
     "metadata": {},
     "output_type": "execute_result"
    }
   ],
   "source": [
    "kg = rdflib_to_kg_nquads(g, label_predicates=bad_predicates)\n",
    "\n",
    "# del g\n",
    "# gc.collect()\n",
    "\n",
    "#\n",
    "# # %%\n",
    "# # estraggo un'istanza di knowledge graph per ogni drug presente in quello iniziale\n",
    "\n",
    "kg_depth = 4\n",
    "\n",
    "i = 0\n",
    "j = 0\n",
    "\n",
    "kv = []\n",
    "drugs = []\n",
    "graphs = []\n",
    "\n",
    "for drug in all_drugs:\n",
    "    try:\n",
    "        gi = extract_instance(kg, drug, kg_depth)\n",
    "        graphs.append(gi)\n",
    "        drugs.append(drug)\n",
    "        kv.append({'graph': gi, 'resource': drug})\n",
    "        i += 1\n",
    "    except Exception as e:\n",
    "        j += 1\n",
    "\n",
    "print('ok:' + str(i))\n",
    "print('not imported: ' + str(j))\n",
    "\n",
    "del kg\n",
    "gc.collect()\n"
   ]
  },
  {
   "cell_type": "code",
   "execution_count": 4,
   "metadata": {
    "collapsed": false,
    "jupyter": {
     "outputs_hidden": false
    },
    "pycharm": {
     "is_executing": false,
     "name": "#%%\n"
    }
   },
   "outputs": [
    {
     "name": "stderr",
     "output_type": "stream",
     "text": [
      "7754it [00:05, 1385.63it/s]\n"
     ]
    },
    {
     "name": "stdout",
     "output_type": "stream",
     "text": [
      "Extracted 7754 walks for 7754 instances!\n",
      "Starting Word2Vec Model\n",
      "Word2Vec Ended\n",
      "Transform.\n"
     ]
    }
   ],
   "source": [
    "# # Embeddings\n",
    "transformer = RDF2VecTransformer(wl=False, max_path_depth=4, vector_size=15, walks_per_graph=1)\n",
    "# transformer = RDF2VecTransformer()\n",
    "transformer.fit(graphs, drugs)\n",
    "embeddings = transformer.transform(graphs, drugs)\n",
    "\n"
   ]
  },
  {
   "cell_type": "code",
   "execution_count": 5,
   "metadata": {
    "collapsed": false,
    "jupyter": {
     "outputs_hidden": false
    },
    "pycharm": {
     "is_executing": false,
     "name": "#%%\n"
    }
   },
   "outputs": [
    {
     "name": "stdout",
     "output_type": "stream",
     "text": [
      "clustering models created\n"
     ]
    }
   ],
   "source": [
    "# STAMPO PER OGNI RISORSA IL CLUSTER A CUI CORRISPONDE, IN MODO DA POTERNE PRELEVARE PER IL MOMENTO\n",
    "# DUE APPARTENENTI ALLO STESSO CLUSTER\n",
    "kmeans = KMeans(n_clusters=250)\n",
    "km = kmeans.fit(embeddings)\n",
    "y_kmeans = kmeans.predict(embeddings)\n",
    "\n",
    "print(\"clustering models created\")"
   ]
  },
  {
   "cell_type": "code",
   "execution_count": 6,
   "metadata": {
    "collapsed": false,
    "jupyter": {
     "outputs_hidden": false
    },
    "pycharm": {
     "is_executing": false,
     "name": "#%%\n"
    }
   },
   "outputs": [],
   "source": [
    "\n",
    "from pathlib import Path\n",
    "\n",
    "\n",
    "clusters = {i: [] for i in range(kmeans.n_clusters)}\n",
    "i = 0\n",
    "for j in y_kmeans:\n",
    "    clusters[j].append(i)\n",
    "    i += 1\n",
    "\n",
    "# Save clusters obtained from kmeans\n",
    "file = open(\"../../datasets/drugbank/clusters_log/po_significant/kmeans_125_\" + str(datetime.datetime.now()).replace(\":\", \".\"), \"a\")\n",
    "file.write(str(clusters))\n",
    "file.close()\n"
   ]
  },
  {
   "cell_type": "code",
   "execution_count": 7,
   "metadata": {
    "collapsed": false,
    "jupyter": {
     "outputs_hidden": false
    },
    "pycharm": {
     "is_executing": false,
     "name": "#%%\n"
    }
   },
   "outputs": [
    {
     "name": "stdout",
     "output_type": "stream",
     "text": [
      "cluster 0 with dimension: 39\n",
      "cluster 1 with dimension: 25\n",
      "cluster 2 with dimension: 31\n",
      "cluster 3 with dimension: 45\n",
      "cluster 4 with dimension: 23\n",
      "cluster 5 with dimension: 38\n",
      "cluster 6 with dimension: 13\n",
      "cluster 7 with dimension: 23\n",
      "cluster 8 with dimension: 30\n",
      "cluster 9 with dimension: 14\n",
      "cluster 10 with dimension: 25\n",
      "cluster 11 with dimension: 35\n",
      "cluster 12 with dimension: 33\n",
      "cluster 13 with dimension: 35\n",
      "cluster 14 with dimension: 29\n",
      "cluster 15 with dimension: 29\n",
      "cluster 16 with dimension: 47\n",
      "cluster 17 with dimension: 29\n",
      "cluster 18 with dimension: 20\n",
      "cluster 19 with dimension: 19\n",
      "cluster 20 with dimension: 34\n",
      "cluster 21 with dimension: 42\n",
      "cluster 22 with dimension: 34\n",
      "cluster 23 with dimension: 26\n",
      "cluster 24 with dimension: 28\n",
      "cluster 25 with dimension: 38\n",
      "cluster 26 with dimension: 33\n",
      "cluster 27 with dimension: 50\n",
      "cluster 28 with dimension: 33\n",
      "cluster 29 with dimension: 12\n",
      "cluster 30 with dimension: 34\n",
      "cluster 31 with dimension: 41\n",
      "cluster 32 with dimension: 11\n",
      "cluster 33 with dimension: 43\n",
      "cluster 34 with dimension: 46\n",
      "cluster 35 with dimension: 48\n",
      "cluster 36 with dimension: 32\n",
      "cluster 37 with dimension: 36\n",
      "cluster 38 with dimension: 14\n",
      "cluster 39 with dimension: 35\n",
      "cluster 40 with dimension: 40\n",
      "cluster 41 with dimension: 25\n",
      "cluster 42 with dimension: 45\n",
      "cluster 43 with dimension: 31\n",
      "cluster 44 with dimension: 38\n",
      "cluster 45 with dimension: 28\n",
      "cluster 46 with dimension: 24\n",
      "cluster 47 with dimension: 29\n",
      "cluster 48 with dimension: 27\n",
      "cluster 49 with dimension: 13\n",
      "cluster 50 with dimension: 37\n",
      "cluster 51 with dimension: 33\n",
      "cluster 52 with dimension: 33\n",
      "cluster 53 with dimension: 24\n",
      "cluster 54 with dimension: 23\n",
      "cluster 55 with dimension: 31\n",
      "cluster 56 with dimension: 26\n",
      "cluster 57 with dimension: 31\n",
      "cluster 58 with dimension: 37\n",
      "cluster 59 with dimension: 14\n",
      "cluster 60 with dimension: 9\n",
      "cluster 61 with dimension: 18\n",
      "cluster 62 with dimension: 32\n",
      "cluster 63 with dimension: 41\n",
      "cluster 64 with dimension: 35\n",
      "cluster 65 with dimension: 46\n",
      "cluster 66 with dimension: 38\n",
      "cluster 67 with dimension: 41\n",
      "cluster 68 with dimension: 42\n",
      "cluster 69 with dimension: 28\n",
      "cluster 70 with dimension: 20\n",
      "cluster 71 with dimension: 35\n",
      "cluster 72 with dimension: 22\n",
      "cluster 73 with dimension: 36\n",
      "cluster 74 with dimension: 19\n",
      "cluster 75 with dimension: 30\n",
      "cluster 76 with dimension: 29\n",
      "cluster 77 with dimension: 12\n",
      "cluster 78 with dimension: 37\n",
      "cluster 79 with dimension: 42\n",
      "cluster 80 with dimension: 39\n",
      "cluster 81 with dimension: 36\n",
      "cluster 82 with dimension: 22\n",
      "cluster 83 with dimension: 36\n",
      "cluster 84 with dimension: 36\n",
      "cluster 85 with dimension: 33\n",
      "cluster 86 with dimension: 38\n",
      "cluster 87 with dimension: 39\n",
      "cluster 88 with dimension: 35\n",
      "cluster 89 with dimension: 27\n",
      "cluster 90 with dimension: 29\n",
      "cluster 91 with dimension: 25\n",
      "cluster 92 with dimension: 36\n",
      "cluster 93 with dimension: 22\n",
      "cluster 94 with dimension: 38\n",
      "cluster 95 with dimension: 47\n",
      "cluster 96 with dimension: 34\n",
      "cluster 97 with dimension: 21\n",
      "cluster 98 with dimension: 38\n",
      "cluster 99 with dimension: 36\n",
      "cluster 100 with dimension: 38\n",
      "cluster 101 with dimension: 23\n",
      "cluster 102 with dimension: 31\n",
      "cluster 103 with dimension: 17\n",
      "cluster 104 with dimension: 29\n",
      "cluster 105 with dimension: 21\n",
      "cluster 106 with dimension: 23\n",
      "cluster 107 with dimension: 33\n",
      "cluster 108 with dimension: 22\n",
      "cluster 109 with dimension: 27\n",
      "cluster 110 with dimension: 15\n",
      "cluster 111 with dimension: 30\n",
      "cluster 112 with dimension: 25\n",
      "cluster 113 with dimension: 22\n",
      "cluster 114 with dimension: 29\n",
      "cluster 115 with dimension: 44\n",
      "cluster 116 with dimension: 6\n",
      "cluster 117 with dimension: 24\n",
      "cluster 118 with dimension: 46\n",
      "cluster 119 with dimension: 36\n",
      "cluster 120 with dimension: 25\n",
      "cluster 121 with dimension: 43\n",
      "cluster 122 with dimension: 31\n",
      "cluster 123 with dimension: 46\n",
      "cluster 124 with dimension: 22\n",
      "cluster 125 with dimension: 32\n",
      "cluster 126 with dimension: 36\n",
      "cluster 127 with dimension: 38\n",
      "cluster 128 with dimension: 41\n",
      "cluster 129 with dimension: 41\n",
      "cluster 130 with dimension: 6\n",
      "cluster 131 with dimension: 33\n",
      "cluster 132 with dimension: 40\n",
      "cluster 133 with dimension: 27\n",
      "cluster 134 with dimension: 37\n",
      "cluster 135 with dimension: 30\n",
      "cluster 136 with dimension: 38\n",
      "cluster 137 with dimension: 16\n",
      "cluster 138 with dimension: 38\n",
      "cluster 139 with dimension: 20\n",
      "cluster 140 with dimension: 41\n",
      "cluster 141 with dimension: 35\n",
      "cluster 142 with dimension: 29\n",
      "cluster 143 with dimension: 24\n",
      "cluster 144 with dimension: 37\n",
      "cluster 145 with dimension: 25\n",
      "cluster 146 with dimension: 40\n",
      "cluster 147 with dimension: 30\n",
      "cluster 148 with dimension: 33\n",
      "cluster 149 with dimension: 34\n",
      "cluster 150 with dimension: 43\n",
      "cluster 151 with dimension: 40\n",
      "cluster 152 with dimension: 32\n",
      "cluster 153 with dimension: 40\n",
      "cluster 154 with dimension: 34\n",
      "cluster 155 with dimension: 45\n",
      "cluster 156 with dimension: 15\n",
      "cluster 157 with dimension: 24\n",
      "cluster 158 with dimension: 41\n",
      "cluster 159 with dimension: 42\n",
      "cluster 160 with dimension: 36\n",
      "cluster 161 with dimension: 23\n",
      "cluster 162 with dimension: 21\n",
      "cluster 163 with dimension: 37\n",
      "cluster 164 with dimension: 26\n",
      "cluster 165 with dimension: 29\n",
      "cluster 166 with dimension: 21\n",
      "cluster 167 with dimension: 34\n",
      "cluster 168 with dimension: 30\n",
      "cluster 169 with dimension: 30\n",
      "cluster 170 with dimension: 36\n",
      "cluster 171 with dimension: 24\n",
      "cluster 172 with dimension: 34\n",
      "cluster 173 with dimension: 37\n",
      "cluster 174 with dimension: 22\n",
      "cluster 175 with dimension: 25\n",
      "cluster 176 with dimension: 27\n",
      "cluster 177 with dimension: 20\n",
      "cluster 178 with dimension: 31\n",
      "cluster 179 with dimension: 34\n",
      "cluster 180 with dimension: 17\n",
      "cluster 181 with dimension: 33\n",
      "cluster 182 with dimension: 45\n",
      "cluster 183 with dimension: 44\n",
      "cluster 184 with dimension: 40\n",
      "cluster 185 with dimension: 34\n",
      "cluster 186 with dimension: 26\n",
      "cluster 187 with dimension: 38\n",
      "cluster 188 with dimension: 28\n",
      "cluster 189 with dimension: 22\n",
      "cluster 190 with dimension: 24\n",
      "cluster 191 with dimension: 32\n",
      "cluster 192 with dimension: 26\n",
      "cluster 193 with dimension: 36\n",
      "cluster 194 with dimension: 35\n",
      "cluster 195 with dimension: 23\n",
      "cluster 196 with dimension: 33\n",
      "cluster 197 with dimension: 37\n",
      "cluster 198 with dimension: 42\n",
      "cluster 199 with dimension: 33\n",
      "cluster 200 with dimension: 42\n",
      "cluster 201 with dimension: 40\n",
      "cluster 202 with dimension: 13\n",
      "cluster 203 with dimension: 33\n",
      "cluster 204 with dimension: 38\n",
      "cluster 205 with dimension: 32\n",
      "cluster 206 with dimension: 34\n",
      "cluster 207 with dimension: 32\n",
      "cluster 208 with dimension: 27\n",
      "cluster 209 with dimension: 37\n",
      "cluster 210 with dimension: 39\n",
      "cluster 211 with dimension: 43\n",
      "cluster 212 with dimension: 28\n",
      "cluster 213 with dimension: 32\n",
      "cluster 214 with dimension: 20\n",
      "cluster 215 with dimension: 20\n",
      "cluster 216 with dimension: 25\n",
      "cluster 217 with dimension: 36\n",
      "cluster 218 with dimension: 35\n",
      "cluster 219 with dimension: 14\n",
      "cluster 220 with dimension: 29\n",
      "cluster 221 with dimension: 33\n",
      "cluster 222 with dimension: 43\n",
      "cluster 223 with dimension: 26\n",
      "cluster 224 with dimension: 29\n",
      "cluster 225 with dimension: 46\n",
      "cluster 226 with dimension: 34\n",
      "cluster 227 with dimension: 21\n",
      "cluster 228 with dimension: 25\n",
      "cluster 229 with dimension: 14\n",
      "cluster 230 with dimension: 35\n",
      "cluster 231 with dimension: 36\n",
      "cluster 232 with dimension: 34\n",
      "cluster 233 with dimension: 36\n",
      "cluster 234 with dimension: 31\n",
      "cluster 235 with dimension: 18\n",
      "cluster 236 with dimension: 31\n",
      "cluster 237 with dimension: 37\n",
      "cluster 238 with dimension: 37\n",
      "cluster 239 with dimension: 12\n",
      "cluster 240 with dimension: 17\n",
      "cluster 241 with dimension: 11\n",
      "cluster 242 with dimension: 49\n",
      "cluster 243 with dimension: 25\n",
      "cluster 244 with dimension: 41\n",
      "cluster 245 with dimension: 13\n",
      "cluster 246 with dimension: 35\n",
      "cluster 247 with dimension: 39\n",
      "cluster 248 with dimension: 43\n",
      "cluster 249 with dimension: 44\n"
     ]
    }
   ],
   "source": [
    "# Print clusters and their dimension\n",
    "\n",
    "for key in clusters.keys():\n",
    "    print(\"cluster \" + str(key) + \" with dimension: \" + str(len(clusters[key])))\n"
   ]
  },
  {
   "cell_type": "code",
   "execution_count": 8,
   "metadata": {
    "collapsed": false,
    "jupyter": {
     "outputs_hidden": false
    },
    "pycharm": {
     "is_executing": false,
     "name": "#%%\n"
    }
   },
   "outputs": [
    {
     "name": "stdout",
     "output_type": "stream",
     "text": [
      "esploro il cluster: 116 con dimensione 6\n",
      "[3962, 4002, 4003, 1786, 4552, 1479]\n",
      "risorsa iniziale: 3962 di dim -> 54\n"
     ]
    }
   ],
   "source": [
    "directory = \"../../outputs/drugbank/po_significant/oLast_NQ_NEW_\" + str(datetime.datetime.now()).replace(\":\", \".\").replace(\" \", \"_\")\n",
    "if not os.path.exists(directory):\n",
    "    os.mkdir(directory)\n",
    "\n",
    "# cluster da analizzare\n",
    "# k = 22\n",
    "\n",
    "# seleziono il cluster con il minor numero di elementi\n",
    "\n",
    "k = min(clusters.keys(), key=lambda a: len(clusters[a]))\n",
    "\n",
    "# seleziono il cluster con il minor numero totale di archi\n",
    "\n",
    "#k = min(clusters.keys(), \n",
    "#    key=lambda key: sum(len(kg_to_rdflib(graphs[res], kg_depth)) for res in clusters[key]))\n",
    "\n",
    "# seleziono il cluster con l'elemento che ha il minor numero di archi\n",
    "\n",
    "#k = min(clusters.keys(), key=lambda key: min([len(kg_to_rdflib(graphs[res], kg_depth))\n",
    "#                                                 for res in clusters[key]]))\n",
    "\n",
    "# k random choice\n",
    "#k = random.randrange(250)\n",
    "\n",
    "clusters[k] = sorted(clusters[k],  key=lambda res: len(kg_to_rdflib(graphs[res], kg_depth)))\n",
    "\n",
    "# clusters[k] = [48, 50]\n",
    "\n",
    "L = len(clusters[k])\n",
    "\n",
    "print(\"esploro il cluster: \" + str(k) + \" con dimensione \" + str(L))\n",
    "print(clusters[k])\n",
    "# risorsa iniziale\n",
    "# resource_1 = random.choice(clusters[k])\n",
    "\n",
    "resource_1 = clusters[k].pop(0)\n",
    "\n",
    "graph_1 = graphs[resource_1]\n",
    "\n",
    "print(\"risorsa iniziale: \" + str(resource_1) + \" di dim -> \" + str(len(kg_to_rdflib(graph_1, kg_depth))))\n",
    "\n",
    "# clusters[k].remove(resource_1)\n",
    "explored_resoures = [resource_1]\n",
    "\n",
    "iteration = 0\n",
    "\n"
   ]
  },
  {
   "cell_type": "code",
   "execution_count": 9,
   "metadata": {
    "collapsed": false,
    "jupyter": {
     "outputs_hidden": false
    },
    "pycharm": {
     "is_executing": false,
     "name": "#%%\n"
    }
   },
   "outputs": [
    {
     "name": "stdout",
     "output_type": "stream",
     "text": [
      "LCS with resource: 4002 con dim: 59\n",
      "starting graphs exploration...\n",
      "exploration ended.\n",
      "filling LCS graph.\n",
      "graph completed.\n",
      "dim LCS itermedio tra [3962, 4002] \n",
      "--> 32\n",
      "Iterazione: 0, trovato LCS tra: [3962, 4002]\n",
      "Count significant row:  4\n",
      "LCS with resource: 4003 con dim: 97\n",
      "starting graphs exploration...\n",
      "exploration ended.\n",
      "filling LCS graph.\n",
      "graph completed.\n",
      "dim LCS itermedio tra [3962, 4002, 4003] \n",
      "--> 990\n",
      "Iterazione: 1, trovato LCS tra: [3962, 4002, 4003]\n",
      "Count significant row:  116\n",
      "LCS with resource: 1786 con dim: 201\n",
      "starting graphs exploration...\n"
     ]
    },
    {
     "ename": "KeyboardInterrupt",
     "evalue": "",
     "output_type": "error",
     "traceback": [
      "\u001b[1;31m---------------------------------------------------------------------------\u001b[0m",
      "\u001b[1;31mParseException\u001b[0m                            Traceback (most recent call last)",
      "File \u001b[1;32m~\\AppData\\Local\\Packages\\PythonSoftwareFoundation.Python.3.8_qbz5n2kfra8p0\\LocalCache\\local-packages\\Python38\\site-packages\\pyparsing\\core.py:921\u001b[0m, in \u001b[0;36mParserElement._parseCache\u001b[1;34m(self, instring, loc, doActions, callPreParse)\u001b[0m\n\u001b[0;32m    920\u001b[0m \u001b[39mtry\u001b[39;00m:\n\u001b[1;32m--> 921\u001b[0m     value \u001b[39m=\u001b[39m \u001b[39mself\u001b[39;49m\u001b[39m.\u001b[39;49m_parseNoCache(instring, loc, doActions, callPreParse)\n\u001b[0;32m    922\u001b[0m \u001b[39mexcept\u001b[39;00m ParseBaseException \u001b[39mas\u001b[39;00m pe:\n\u001b[0;32m    923\u001b[0m     \u001b[39m# cache a copy of the exception, without the traceback\u001b[39;00m\n",
      "File \u001b[1;32m~\\AppData\\Local\\Packages\\PythonSoftwareFoundation.Python.3.8_qbz5n2kfra8p0\\LocalCache\\local-packages\\Python38\\site-packages\\pyparsing\\core.py:817\u001b[0m, in \u001b[0;36mParserElement._parseNoCache\u001b[1;34m(self, instring, loc, doActions, callPreParse)\u001b[0m\n\u001b[0;32m    816\u001b[0m \u001b[39mtry\u001b[39;00m:\n\u001b[1;32m--> 817\u001b[0m     loc, tokens \u001b[39m=\u001b[39m \u001b[39mself\u001b[39;49m\u001b[39m.\u001b[39;49mparseImpl(instring, pre_loc, doActions)\n\u001b[0;32m    818\u001b[0m \u001b[39mexcept\u001b[39;00m \u001b[39mIndexError\u001b[39;00m:\n",
      "File \u001b[1;32m~\\AppData\\Local\\Packages\\PythonSoftwareFoundation.Python.3.8_qbz5n2kfra8p0\\LocalCache\\local-packages\\Python38\\site-packages\\pyparsing\\core.py:3864\u001b[0m, in \u001b[0;36mAnd.parseImpl\u001b[1;34m(self, instring, loc, doActions)\u001b[0m\n\u001b[0;32m   3861\u001b[0m \u001b[39mdef\u001b[39;00m \u001b[39mparseImpl\u001b[39m(\u001b[39mself\u001b[39m, instring, loc, doActions\u001b[39m=\u001b[39m\u001b[39mTrue\u001b[39;00m):\n\u001b[0;32m   3862\u001b[0m     \u001b[39m# pass False as callPreParse arg to _parse for first element, since we already\u001b[39;00m\n\u001b[0;32m   3863\u001b[0m     \u001b[39m# pre-parsed the string as part of our And pre-parsing\u001b[39;00m\n\u001b[1;32m-> 3864\u001b[0m     loc, resultlist \u001b[39m=\u001b[39m \u001b[39mself\u001b[39;49m\u001b[39m.\u001b[39;49mexprs[\u001b[39m0\u001b[39;49m]\u001b[39m.\u001b[39;49m_parse(\n\u001b[0;32m   3865\u001b[0m         instring, loc, doActions, callPreParse\u001b[39m=\u001b[39;49m\u001b[39mFalse\u001b[39;49;00m\n\u001b[0;32m   3866\u001b[0m     )\n\u001b[0;32m   3867\u001b[0m     errorStop \u001b[39m=\u001b[39m \u001b[39mFalse\u001b[39;00m\n",
      "File \u001b[1;32m~\\AppData\\Local\\Packages\\PythonSoftwareFoundation.Python.3.8_qbz5n2kfra8p0\\LocalCache\\local-packages\\Python38\\site-packages\\pyparsing\\core.py:921\u001b[0m, in \u001b[0;36mParserElement._parseCache\u001b[1;34m(self, instring, loc, doActions, callPreParse)\u001b[0m\n\u001b[0;32m    920\u001b[0m \u001b[39mtry\u001b[39;00m:\n\u001b[1;32m--> 921\u001b[0m     value \u001b[39m=\u001b[39m \u001b[39mself\u001b[39;49m\u001b[39m.\u001b[39;49m_parseNoCache(instring, loc, doActions, callPreParse)\n\u001b[0;32m    922\u001b[0m \u001b[39mexcept\u001b[39;00m ParseBaseException \u001b[39mas\u001b[39;00m pe:\n\u001b[0;32m    923\u001b[0m     \u001b[39m# cache a copy of the exception, without the traceback\u001b[39;00m\n",
      "File \u001b[1;32m~\\AppData\\Local\\Packages\\PythonSoftwareFoundation.Python.3.8_qbz5n2kfra8p0\\LocalCache\\local-packages\\Python38\\site-packages\\pyparsing\\core.py:821\u001b[0m, in \u001b[0;36mParserElement._parseNoCache\u001b[1;34m(self, instring, loc, doActions, callPreParse)\u001b[0m\n\u001b[0;32m    820\u001b[0m     \u001b[39melse\u001b[39;00m:\n\u001b[1;32m--> 821\u001b[0m         loc, tokens \u001b[39m=\u001b[39m \u001b[39mself\u001b[39;49m\u001b[39m.\u001b[39;49mparseImpl(instring, pre_loc, doActions)\n\u001b[0;32m    823\u001b[0m tokens \u001b[39m=\u001b[39m \u001b[39mself\u001b[39m\u001b[39m.\u001b[39mpostParse(instring, loc, tokens)\n",
      "File \u001b[1;32m~\\AppData\\Local\\Packages\\PythonSoftwareFoundation.Python.3.8_qbz5n2kfra8p0\\LocalCache\\local-packages\\Python38\\site-packages\\pyparsing\\core.py:2460\u001b[0m, in \u001b[0;36mKeyword.parseImpl\u001b[1;34m(self, instring, loc, doActions)\u001b[0m\n\u001b[0;32m   2458\u001b[0m     \u001b[39m# else no match just raise plain exception\u001b[39;00m\n\u001b[1;32m-> 2460\u001b[0m \u001b[39mraise\u001b[39;00m ParseException(instring, errloc, errmsg, \u001b[39mself\u001b[39m)\n",
      "\u001b[1;31mParseException\u001b[0m: Expected CaselessKeyword 'ABS', found '?'  (at char 1127), (line:4, col:957)",
      "\nDuring handling of the above exception, another exception occurred:\n",
      "\u001b[1;31mKeyboardInterrupt\u001b[0m                         Traceback (most recent call last)",
      "Cell \u001b[1;32mIn [9], line 11\u001b[0m\n\u001b[0;32m      9\u001b[0m \u001b[39m# seed\u001b[39;00m\n\u001b[0;32m     10\u001b[0m seed \u001b[39m=\u001b[39m LCS(graph_1, graph_2, depth\u001b[39m=\u001b[39m\u001b[39m2\u001b[39m, stop_patterns\u001b[39m=\u001b[39mstop_patterns, uninformative_triples\u001b[39m=\u001b[39mpreds)\n\u001b[1;32m---> 11\u001b[0m seed\u001b[39m.\u001b[39;49mfind()\n\u001b[0;32m     13\u001b[0m explored_resoures\u001b[39m.\u001b[39mappend(resource_2)\n\u001b[0;32m     15\u001b[0m \u001b[39mprint\u001b[39m(\u001b[39m\"\u001b[39m\u001b[39mdim LCS itermedio tra \u001b[39m\u001b[39m\"\u001b[39m \u001b[39m+\u001b[39m \u001b[39mstr\u001b[39m(explored_resoures) \u001b[39m+\u001b[39m \u001b[39m\"\u001b[39m\u001b[39m \u001b[39m\u001b[39m\\n\u001b[39;00m\u001b[39m--> \u001b[39m\u001b[39m\"\u001b[39m \u001b[39m+\u001b[39m \u001b[39mstr\u001b[39m(\u001b[39mlen\u001b[39m(seed)))\n",
      "File \u001b[1;32md:\\Università\\Magistrale\\Magistrale\\Tesi\\Thesis\\src\\lcs_rdf_graph_test.py:58\u001b[0m, in \u001b[0;36mLCS.find\u001b[1;34m(self)\u001b[0m\n\u001b[0;32m     55\u001b[0m b \u001b[39m=\u001b[39m root_node(\u001b[39mself\u001b[39m\u001b[39m.\u001b[39mb_T)\n\u001b[0;32m     57\u001b[0m \u001b[39mprint\u001b[39m(\u001b[39m\"\u001b[39m\u001b[39mstarting graphs exploration...\u001b[39m\u001b[39m\"\u001b[39m)\n\u001b[1;32m---> 58\u001b[0m \u001b[39mself\u001b[39;49m\u001b[39m.\u001b[39;49mexplore(a, \u001b[39mself\u001b[39;49m\u001b[39m.\u001b[39;49ma_T, b, \u001b[39mself\u001b[39;49m\u001b[39m.\u001b[39;49mb_T)  \u001b[39m# clean=self.clean)\u001b[39;00m\n\u001b[0;32m     59\u001b[0m \u001b[39mprint\u001b[39m(\u001b[39m\"\u001b[39m\u001b[39mexploration ended.\u001b[39m\u001b[39m\"\u001b[39m)\n\u001b[0;32m     60\u001b[0m \u001b[39mprint\u001b[39m(\u001b[39m\"\u001b[39m\u001b[39mfilling LCS graph.\u001b[39m\u001b[39m\"\u001b[39m)\n",
      "File \u001b[1;32md:\\Università\\Magistrale\\Magistrale\\Tesi\\Thesis\\src\\lcs_rdf_graph_test.py:138\u001b[0m, in \u001b[0;36mLCS.explore\u001b[1;34m(self, a, a_T, b, b_T, depth)\u001b[0m\n\u001b[0;32m    133\u001b[0m \u001b[39mfor\u001b[39;00m (s_b, p_b, o_b) \u001b[39min\u001b[39;00m \u001b[39mself\u001b[39m\u001b[39m.\u001b[39mcompute_sigma(b, b_T):\n\u001b[0;32m    137\u001b[0m     y, y_blank, y_uninformative \u001b[39m=\u001b[39m \u001b[39mself\u001b[39m\u001b[39m.\u001b[39mexplore(p_a, a_T, p_b, b_T, depth \u001b[39m+\u001b[39m \u001b[39m1\u001b[39m)\n\u001b[1;32m--> 138\u001b[0m     z, z_blank, _ \u001b[39m=\u001b[39m \u001b[39mself\u001b[39;49m\u001b[39m.\u001b[39;49mexplore(o_a, a_T, o_b, b_T, depth \u001b[39m+\u001b[39;49m \u001b[39m1\u001b[39;49m)\n\u001b[0;32m    140\u001b[0m     \u001b[39m# verifico che le due risorse risultanti non siano entrambe blank senza child\u001b[39;00m\n\u001b[0;32m    141\u001b[0m     \u001b[39m# (o con predicato uninformative)\u001b[39;00m\n\u001b[0;32m    142\u001b[0m     \u001b[39m# in quel caso non voglio aggiungerle al grafo risultante\u001b[39;00m\n\u001b[0;32m    143\u001b[0m     blank \u001b[39m=\u001b[39m blank \u001b[39mand\u001b[39;00m ((y_blank \u001b[39mor\u001b[39;00m y_uninformative) \u001b[39mand\u001b[39;00m z_blank)\n",
      "File \u001b[1;32md:\\Università\\Magistrale\\Magistrale\\Tesi\\Thesis\\src\\lcs_rdf_graph_test.py:133\u001b[0m, in \u001b[0;36mLCS.explore\u001b[1;34m(self, a, a_T, b, b_T, depth)\u001b[0m\n\u001b[0;32m    128\u001b[0m blank_p \u001b[39m=\u001b[39m \u001b[39mFalse\u001b[39;00m\n\u001b[0;32m    129\u001b[0m blank_o \u001b[39m=\u001b[39m \u001b[39mFalse\u001b[39;00m\n\u001b[1;32m--> 133\u001b[0m \u001b[39mfor\u001b[39;00m (s_b, p_b, o_b) \u001b[39min\u001b[39;00m \u001b[39mself\u001b[39;49m\u001b[39m.\u001b[39;49mcompute_sigma(b, b_T):\n\u001b[0;32m    137\u001b[0m     y, y_blank, y_uninformative \u001b[39m=\u001b[39m \u001b[39mself\u001b[39m\u001b[39m.\u001b[39mexplore(p_a, a_T, p_b, b_T, depth \u001b[39m+\u001b[39m \u001b[39m1\u001b[39m)\n\u001b[0;32m    138\u001b[0m     z, z_blank, _ \u001b[39m=\u001b[39m \u001b[39mself\u001b[39m\u001b[39m.\u001b[39mexplore(o_a, a_T, o_b, b_T, depth \u001b[39m+\u001b[39m \u001b[39m1\u001b[39m)\n",
      "File \u001b[1;32md:\\Università\\Magistrale\\Magistrale\\Tesi\\Thesis\\src\\lcs_rdf_graph_test.py:207\u001b[0m, in \u001b[0;36mLCS.compute_sigma\u001b[1;34m(self, node, graph, max_depth, depth)\u001b[0m\n\u001b[0;32m    204\u001b[0m     filter_block \u001b[39m=\u001b[39m \u001b[39mself\u001b[39m\u001b[39m.\u001b[39m__make_filter_block__(graph)\n\u001b[0;32m    205\u001b[0m     query \u001b[39m=\u001b[39m query \u001b[39m+\u001b[39m filter_block \u001b[39m+\u001b[39m \u001b[39m'\u001b[39m\u001b[39m}\u001b[39m\u001b[39m'\u001b[39m\n\u001b[1;32m--> 207\u001b[0m     sigma \u001b[39m=\u001b[39m \u001b[39mself\u001b[39;49m\u001b[39m.\u001b[39;49m__compute_sigma__(query, graph, depth, max_depth)\n\u001b[0;32m    209\u001b[0m \u001b[39melif\u001b[39;00m \u001b[39m\"\u001b[39m\u001b[39mblank_\u001b[39m\u001b[39m\"\u001b[39m \u001b[39min\u001b[39;00m node:\n\u001b[0;32m    210\u001b[0m     query \u001b[39m=\u001b[39m \u001b[39m\"\"\"\u001b[39m\n\u001b[0;32m    211\u001b[0m \u001b[39m            CONSTRUCT \u001b[39m\u001b[39m{\u001b[39m\u001b[39m _:?s ?p ?o. }\u001b[39m\n\u001b[0;32m    212\u001b[0m \u001b[39m            WHERE \u001b[39m\u001b[39m{\u001b[39m\u001b[39m _:?s ?p ?o.\u001b[39m\n\u001b[0;32m    213\u001b[0m \u001b[39m            \u001b[39m\u001b[39m\"\"\"\u001b[39m\u001b[39m.\u001b[39mreplace(\u001b[39m\"\u001b[39m\u001b[39m?s\u001b[39m\u001b[39m\"\u001b[39m, \u001b[39m'\u001b[39m\u001b[39m%s\u001b[39;00m\u001b[39m'\u001b[39m \u001b[39m%\u001b[39m node)\n",
      "File \u001b[1;32md:\\Università\\Magistrale\\Magistrale\\Tesi\\Thesis\\src\\lcs_rdf_graph_test.py:252\u001b[0m, in \u001b[0;36mLCS.__compute_sigma__\u001b[1;34m(self, query, graph, depth, max_depth)\u001b[0m\n\u001b[0;32m    251\u001b[0m \u001b[39mdef\u001b[39;00m \u001b[39m__compute_sigma__\u001b[39m(\u001b[39mself\u001b[39m, query, graph, depth, max_depth):\n\u001b[1;32m--> 252\u001b[0m     sigma_q \u001b[39m=\u001b[39m graph\u001b[39m.\u001b[39;49mquery(query)\n\u001b[0;32m    253\u001b[0m     sigma \u001b[39m=\u001b[39m rdflib\u001b[39m.\u001b[39mGraph()\n\u001b[0;32m    254\u001b[0m     \u001b[39mfor\u001b[39;00m triple \u001b[39min\u001b[39;00m sigma_q:\n",
      "File \u001b[1;32m~\\AppData\\Local\\Packages\\PythonSoftwareFoundation.Python.3.8_qbz5n2kfra8p0\\LocalCache\\local-packages\\Python38\\site-packages\\rdflib\\graph.py:1389\u001b[0m, in \u001b[0;36mGraph.query\u001b[1;34m(self, query_object, processor, result, initNs, initBindings, use_store_provided, **kwargs)\u001b[0m\n\u001b[0;32m   1386\u001b[0m \u001b[39mif\u001b[39;00m \u001b[39mnot\u001b[39;00m \u001b[39misinstance\u001b[39m(processor, query\u001b[39m.\u001b[39mProcessor):\n\u001b[0;32m   1387\u001b[0m     processor \u001b[39m=\u001b[39m plugin\u001b[39m.\u001b[39mget(processor, query\u001b[39m.\u001b[39mProcessor)(\u001b[39mself\u001b[39m)\n\u001b[1;32m-> 1389\u001b[0m \u001b[39mreturn\u001b[39;00m result(processor\u001b[39m.\u001b[39;49mquery(query_object, initBindings, initNs, \u001b[39m*\u001b[39;49m\u001b[39m*\u001b[39;49mkwargs))\n",
      "File \u001b[1;32m~\\AppData\\Local\\Packages\\PythonSoftwareFoundation.Python.3.8_qbz5n2kfra8p0\\LocalCache\\local-packages\\Python38\\site-packages\\rdflib\\plugins\\sparql\\processor.py:77\u001b[0m, in \u001b[0;36mSPARQLProcessor.query\u001b[1;34m(self, strOrQuery, initBindings, initNs, base, DEBUG)\u001b[0m\n\u001b[0;32m     70\u001b[0m \u001b[39m\"\"\"\u001b[39;00m\n\u001b[0;32m     71\u001b[0m \u001b[39mEvaluate a query with the given initial bindings, and initial\u001b[39;00m\n\u001b[0;32m     72\u001b[0m \u001b[39mnamespaces. The given base is used to resolve relative URIs in\u001b[39;00m\n\u001b[0;32m     73\u001b[0m \u001b[39mthe query and will be overridden by any BASE given in the query.\u001b[39;00m\n\u001b[0;32m     74\u001b[0m \u001b[39m\"\"\"\u001b[39;00m\n\u001b[0;32m     76\u001b[0m \u001b[39mif\u001b[39;00m \u001b[39mnot\u001b[39;00m \u001b[39misinstance\u001b[39m(strOrQuery, Query):\n\u001b[1;32m---> 77\u001b[0m     parsetree \u001b[39m=\u001b[39m parseQuery(strOrQuery)\n\u001b[0;32m     78\u001b[0m     query \u001b[39m=\u001b[39m translateQuery(parsetree, base, initNs)\n\u001b[0;32m     79\u001b[0m \u001b[39melse\u001b[39;00m:\n",
      "File \u001b[1;32m~\\AppData\\Local\\Packages\\PythonSoftwareFoundation.Python.3.8_qbz5n2kfra8p0\\LocalCache\\local-packages\\Python38\\site-packages\\rdflib\\plugins\\sparql\\parser.py:1536\u001b[0m, in \u001b[0;36mparseQuery\u001b[1;34m(q)\u001b[0m\n\u001b[0;32m   1533\u001b[0m     q \u001b[39m=\u001b[39m q\u001b[39m.\u001b[39mdecode(\u001b[39m\"\u001b[39m\u001b[39mutf-8\u001b[39m\u001b[39m\"\u001b[39m)\n\u001b[0;32m   1535\u001b[0m q \u001b[39m=\u001b[39m expandUnicodeEscapes(q)\n\u001b[1;32m-> 1536\u001b[0m \u001b[39mreturn\u001b[39;00m Query\u001b[39m.\u001b[39;49mparseString(q, parseAll\u001b[39m=\u001b[39;49m\u001b[39mTrue\u001b[39;49;00m)\n",
      "File \u001b[1;32m~\\AppData\\Local\\Packages\\PythonSoftwareFoundation.Python.3.8_qbz5n2kfra8p0\\LocalCache\\local-packages\\Python38\\site-packages\\pyparsing\\core.py:1131\u001b[0m, in \u001b[0;36mParserElement.parse_string\u001b[1;34m(self, instring, parse_all, parseAll)\u001b[0m\n\u001b[0;32m   1129\u001b[0m     instring \u001b[39m=\u001b[39m instring\u001b[39m.\u001b[39mexpandtabs()\n\u001b[0;32m   1130\u001b[0m \u001b[39mtry\u001b[39;00m:\n\u001b[1;32m-> 1131\u001b[0m     loc, tokens \u001b[39m=\u001b[39m \u001b[39mself\u001b[39;49m\u001b[39m.\u001b[39;49m_parse(instring, \u001b[39m0\u001b[39;49m)\n\u001b[0;32m   1132\u001b[0m     \u001b[39mif\u001b[39;00m parseAll:\n\u001b[0;32m   1133\u001b[0m         loc \u001b[39m=\u001b[39m \u001b[39mself\u001b[39m\u001b[39m.\u001b[39mpreParse(instring, loc)\n",
      "File \u001b[1;32m~\\AppData\\Local\\Packages\\PythonSoftwareFoundation.Python.3.8_qbz5n2kfra8p0\\LocalCache\\local-packages\\Python38\\site-packages\\pyparsing\\core.py:921\u001b[0m, in \u001b[0;36mParserElement._parseCache\u001b[1;34m(self, instring, loc, doActions, callPreParse)\u001b[0m\n\u001b[0;32m    919\u001b[0m ParserElement\u001b[39m.\u001b[39mpackrat_cache_stats[MISS] \u001b[39m+\u001b[39m\u001b[39m=\u001b[39m \u001b[39m1\u001b[39m\n\u001b[0;32m    920\u001b[0m \u001b[39mtry\u001b[39;00m:\n\u001b[1;32m--> 921\u001b[0m     value \u001b[39m=\u001b[39m \u001b[39mself\u001b[39;49m\u001b[39m.\u001b[39;49m_parseNoCache(instring, loc, doActions, callPreParse)\n\u001b[0;32m    922\u001b[0m \u001b[39mexcept\u001b[39;00m ParseBaseException \u001b[39mas\u001b[39;00m pe:\n\u001b[0;32m    923\u001b[0m     \u001b[39m# cache a copy of the exception, without the traceback\u001b[39;00m\n\u001b[0;32m    924\u001b[0m     cache\u001b[39m.\u001b[39mset(lookup, pe\u001b[39m.\u001b[39m\u001b[39m__class__\u001b[39m(\u001b[39m*\u001b[39mpe\u001b[39m.\u001b[39margs))\n",
      "File \u001b[1;32m~\\AppData\\Local\\Packages\\PythonSoftwareFoundation.Python.3.8_qbz5n2kfra8p0\\LocalCache\\local-packages\\Python38\\site-packages\\pyparsing\\core.py:817\u001b[0m, in \u001b[0;36mParserElement._parseNoCache\u001b[1;34m(self, instring, loc, doActions, callPreParse)\u001b[0m\n\u001b[0;32m    815\u001b[0m \u001b[39mif\u001b[39;00m \u001b[39mself\u001b[39m\u001b[39m.\u001b[39mmayIndexError \u001b[39mor\u001b[39;00m pre_loc \u001b[39m>\u001b[39m\u001b[39m=\u001b[39m len_instring:\n\u001b[0;32m    816\u001b[0m     \u001b[39mtry\u001b[39;00m:\n\u001b[1;32m--> 817\u001b[0m         loc, tokens \u001b[39m=\u001b[39m \u001b[39mself\u001b[39;49m\u001b[39m.\u001b[39;49mparseImpl(instring, pre_loc, doActions)\n\u001b[0;32m    818\u001b[0m     \u001b[39mexcept\u001b[39;00m \u001b[39mIndexError\u001b[39;00m:\n\u001b[0;32m    819\u001b[0m         \u001b[39mraise\u001b[39;00m ParseException(instring, len_instring, \u001b[39mself\u001b[39m\u001b[39m.\u001b[39merrmsg, \u001b[39mself\u001b[39m)\n",
      "File \u001b[1;32m~\\AppData\\Local\\Packages\\PythonSoftwareFoundation.Python.3.8_qbz5n2kfra8p0\\LocalCache\\local-packages\\Python38\\site-packages\\pyparsing\\core.py:3886\u001b[0m, in \u001b[0;36mAnd.parseImpl\u001b[1;34m(self, instring, loc, doActions)\u001b[0m\n\u001b[0;32m   3882\u001b[0m         \u001b[39mraise\u001b[39;00m ParseSyntaxException(\n\u001b[0;32m   3883\u001b[0m             instring, \u001b[39mlen\u001b[39m(instring), \u001b[39mself\u001b[39m\u001b[39m.\u001b[39merrmsg, \u001b[39mself\u001b[39m\n\u001b[0;32m   3884\u001b[0m         )\n\u001b[0;32m   3885\u001b[0m \u001b[39melse\u001b[39;00m:\n\u001b[1;32m-> 3886\u001b[0m     loc, exprtokens \u001b[39m=\u001b[39m e\u001b[39m.\u001b[39;49m_parse(instring, loc, doActions)\n\u001b[0;32m   3887\u001b[0m \u001b[39mif\u001b[39;00m exprtokens \u001b[39mor\u001b[39;00m exprtokens\u001b[39m.\u001b[39mhaskeys():\n\u001b[0;32m   3888\u001b[0m     resultlist \u001b[39m+\u001b[39m\u001b[39m=\u001b[39m exprtokens\n",
      "File \u001b[1;32m~\\AppData\\Local\\Packages\\PythonSoftwareFoundation.Python.3.8_qbz5n2kfra8p0\\LocalCache\\local-packages\\Python38\\site-packages\\pyparsing\\core.py:921\u001b[0m, in \u001b[0;36mParserElement._parseCache\u001b[1;34m(self, instring, loc, doActions, callPreParse)\u001b[0m\n\u001b[0;32m    919\u001b[0m ParserElement\u001b[39m.\u001b[39mpackrat_cache_stats[MISS] \u001b[39m+\u001b[39m\u001b[39m=\u001b[39m \u001b[39m1\u001b[39m\n\u001b[0;32m    920\u001b[0m \u001b[39mtry\u001b[39;00m:\n\u001b[1;32m--> 921\u001b[0m     value \u001b[39m=\u001b[39m \u001b[39mself\u001b[39;49m\u001b[39m.\u001b[39;49m_parseNoCache(instring, loc, doActions, callPreParse)\n\u001b[0;32m    922\u001b[0m \u001b[39mexcept\u001b[39;00m ParseBaseException \u001b[39mas\u001b[39;00m pe:\n\u001b[0;32m    923\u001b[0m     \u001b[39m# cache a copy of the exception, without the traceback\u001b[39;00m\n\u001b[0;32m    924\u001b[0m     cache\u001b[39m.\u001b[39mset(lookup, pe\u001b[39m.\u001b[39m\u001b[39m__class__\u001b[39m(\u001b[39m*\u001b[39mpe\u001b[39m.\u001b[39margs))\n",
      "File \u001b[1;32m~\\AppData\\Local\\Packages\\PythonSoftwareFoundation.Python.3.8_qbz5n2kfra8p0\\LocalCache\\local-packages\\Python38\\site-packages\\pyparsing\\core.py:817\u001b[0m, in \u001b[0;36mParserElement._parseNoCache\u001b[1;34m(self, instring, loc, doActions, callPreParse)\u001b[0m\n\u001b[0;32m    815\u001b[0m \u001b[39mif\u001b[39;00m \u001b[39mself\u001b[39m\u001b[39m.\u001b[39mmayIndexError \u001b[39mor\u001b[39;00m pre_loc \u001b[39m>\u001b[39m\u001b[39m=\u001b[39m len_instring:\n\u001b[0;32m    816\u001b[0m     \u001b[39mtry\u001b[39;00m:\n\u001b[1;32m--> 817\u001b[0m         loc, tokens \u001b[39m=\u001b[39m \u001b[39mself\u001b[39;49m\u001b[39m.\u001b[39;49mparseImpl(instring, pre_loc, doActions)\n\u001b[0;32m    818\u001b[0m     \u001b[39mexcept\u001b[39;00m \u001b[39mIndexError\u001b[39;00m:\n\u001b[0;32m    819\u001b[0m         \u001b[39mraise\u001b[39;00m ParseException(instring, len_instring, \u001b[39mself\u001b[39m\u001b[39m.\u001b[39merrmsg, \u001b[39mself\u001b[39m)\n",
      "File \u001b[1;32m~\\AppData\\Local\\Packages\\PythonSoftwareFoundation.Python.3.8_qbz5n2kfra8p0\\LocalCache\\local-packages\\Python38\\site-packages\\pyparsing\\core.py:4114\u001b[0m, in \u001b[0;36mMatchFirst.parseImpl\u001b[1;34m(self, instring, loc, doActions)\u001b[0m\n\u001b[0;32m   4112\u001b[0m \u001b[39mfor\u001b[39;00m e \u001b[39min\u001b[39;00m \u001b[39mself\u001b[39m\u001b[39m.\u001b[39mexprs:\n\u001b[0;32m   4113\u001b[0m     \u001b[39mtry\u001b[39;00m:\n\u001b[1;32m-> 4114\u001b[0m         \u001b[39mreturn\u001b[39;00m e\u001b[39m.\u001b[39;49m_parse(\n\u001b[0;32m   4115\u001b[0m             instring,\n\u001b[0;32m   4116\u001b[0m             loc,\n\u001b[0;32m   4117\u001b[0m             doActions,\n\u001b[0;32m   4118\u001b[0m         )\n\u001b[0;32m   4119\u001b[0m     \u001b[39mexcept\u001b[39;00m ParseFatalException \u001b[39mas\u001b[39;00m pfe:\n\u001b[0;32m   4120\u001b[0m         pfe\u001b[39m.\u001b[39m__traceback__ \u001b[39m=\u001b[39m \u001b[39mNone\u001b[39;00m\n",
      "    \u001b[1;31m[... skipping similar frames: ParserElement._parseCache at line 921 (1 times), ParserElement._parseNoCache at line 817 (1 times)]\u001b[0m\n",
      "File \u001b[1;32m~\\AppData\\Local\\Packages\\PythonSoftwareFoundation.Python.3.8_qbz5n2kfra8p0\\LocalCache\\local-packages\\Python38\\site-packages\\pyparsing\\core.py:4375\u001b[0m, in \u001b[0;36mParseElementEnhance.parseImpl\u001b[1;34m(self, instring, loc, doActions)\u001b[0m\n\u001b[0;32m   4373\u001b[0m \u001b[39mdef\u001b[39;00m \u001b[39mparseImpl\u001b[39m(\u001b[39mself\u001b[39m, instring, loc, doActions\u001b[39m=\u001b[39m\u001b[39mTrue\u001b[39;00m):\n\u001b[0;32m   4374\u001b[0m     \u001b[39mif\u001b[39;00m \u001b[39mself\u001b[39m\u001b[39m.\u001b[39mexpr \u001b[39mis\u001b[39;00m \u001b[39mnot\u001b[39;00m \u001b[39mNone\u001b[39;00m:\n\u001b[1;32m-> 4375\u001b[0m         \u001b[39mreturn\u001b[39;00m \u001b[39mself\u001b[39;49m\u001b[39m.\u001b[39;49mexpr\u001b[39m.\u001b[39;49m_parse(instring, loc, doActions, callPreParse\u001b[39m=\u001b[39;49m\u001b[39mFalse\u001b[39;49;00m)\n\u001b[0;32m   4376\u001b[0m     \u001b[39melse\u001b[39;00m:\n\u001b[0;32m   4377\u001b[0m         \u001b[39mraise\u001b[39;00m ParseException(instring, loc, \u001b[39m\"\u001b[39m\u001b[39mNo expression defined\u001b[39m\u001b[39m\"\u001b[39m, \u001b[39mself\u001b[39m)\n",
      "    \u001b[1;31m[... skipping similar frames: ParserElement._parseCache at line 921 (1 times), ParserElement._parseNoCache at line 817 (1 times)]\u001b[0m\n",
      "File \u001b[1;32m~\\AppData\\Local\\Packages\\PythonSoftwareFoundation.Python.3.8_qbz5n2kfra8p0\\LocalCache\\local-packages\\Python38\\site-packages\\pyparsing\\core.py:3886\u001b[0m, in \u001b[0;36mAnd.parseImpl\u001b[1;34m(self, instring, loc, doActions)\u001b[0m\n\u001b[0;32m   3882\u001b[0m         \u001b[39mraise\u001b[39;00m ParseSyntaxException(\n\u001b[0;32m   3883\u001b[0m             instring, \u001b[39mlen\u001b[39m(instring), \u001b[39mself\u001b[39m\u001b[39m.\u001b[39merrmsg, \u001b[39mself\u001b[39m\n\u001b[0;32m   3884\u001b[0m         )\n\u001b[0;32m   3885\u001b[0m \u001b[39melse\u001b[39;00m:\n\u001b[1;32m-> 3886\u001b[0m     loc, exprtokens \u001b[39m=\u001b[39m e\u001b[39m.\u001b[39;49m_parse(instring, loc, doActions)\n\u001b[0;32m   3887\u001b[0m \u001b[39mif\u001b[39;00m exprtokens \u001b[39mor\u001b[39;00m exprtokens\u001b[39m.\u001b[39mhaskeys():\n\u001b[0;32m   3888\u001b[0m     resultlist \u001b[39m+\u001b[39m\u001b[39m=\u001b[39m exprtokens\n",
      "    \u001b[1;31m[... skipping similar frames: ParserElement._parseCache at line 921 (1 times), ParserElement._parseNoCache at line 817 (1 times)]\u001b[0m\n",
      "File \u001b[1;32m~\\AppData\\Local\\Packages\\PythonSoftwareFoundation.Python.3.8_qbz5n2kfra8p0\\LocalCache\\local-packages\\Python38\\site-packages\\pyparsing\\core.py:4114\u001b[0m, in \u001b[0;36mMatchFirst.parseImpl\u001b[1;34m(self, instring, loc, doActions)\u001b[0m\n\u001b[0;32m   4112\u001b[0m \u001b[39mfor\u001b[39;00m e \u001b[39min\u001b[39;00m \u001b[39mself\u001b[39m\u001b[39m.\u001b[39mexprs:\n\u001b[0;32m   4113\u001b[0m     \u001b[39mtry\u001b[39;00m:\n\u001b[1;32m-> 4114\u001b[0m         \u001b[39mreturn\u001b[39;00m e\u001b[39m.\u001b[39;49m_parse(\n\u001b[0;32m   4115\u001b[0m             instring,\n\u001b[0;32m   4116\u001b[0m             loc,\n\u001b[0;32m   4117\u001b[0m             doActions,\n\u001b[0;32m   4118\u001b[0m         )\n\u001b[0;32m   4119\u001b[0m     \u001b[39mexcept\u001b[39;00m ParseFatalException \u001b[39mas\u001b[39;00m pfe:\n\u001b[0;32m   4120\u001b[0m         pfe\u001b[39m.\u001b[39m__traceback__ \u001b[39m=\u001b[39m \u001b[39mNone\u001b[39;00m\n",
      "    \u001b[1;31m[... skipping similar frames: ParserElement._parseCache at line 921 (1 times), ParserElement._parseNoCache at line 817 (1 times)]\u001b[0m\n",
      "File \u001b[1;32m~\\AppData\\Local\\Packages\\PythonSoftwareFoundation.Python.3.8_qbz5n2kfra8p0\\LocalCache\\local-packages\\Python38\\site-packages\\pyparsing\\core.py:3886\u001b[0m, in \u001b[0;36mAnd.parseImpl\u001b[1;34m(self, instring, loc, doActions)\u001b[0m\n\u001b[0;32m   3882\u001b[0m         \u001b[39mraise\u001b[39;00m ParseSyntaxException(\n\u001b[0;32m   3883\u001b[0m             instring, \u001b[39mlen\u001b[39m(instring), \u001b[39mself\u001b[39m\u001b[39m.\u001b[39merrmsg, \u001b[39mself\u001b[39m\n\u001b[0;32m   3884\u001b[0m         )\n\u001b[0;32m   3885\u001b[0m \u001b[39melse\u001b[39;00m:\n\u001b[1;32m-> 3886\u001b[0m     loc, exprtokens \u001b[39m=\u001b[39m e\u001b[39m.\u001b[39;49m_parse(instring, loc, doActions)\n\u001b[0;32m   3887\u001b[0m \u001b[39mif\u001b[39;00m exprtokens \u001b[39mor\u001b[39;00m exprtokens\u001b[39m.\u001b[39mhaskeys():\n\u001b[0;32m   3888\u001b[0m     resultlist \u001b[39m+\u001b[39m\u001b[39m=\u001b[39m exprtokens\n",
      "    \u001b[1;31m[... skipping similar frames: ParserElement._parseCache at line 921 (1 times), ParserElement._parseNoCache at line 817 (1 times)]\u001b[0m\n",
      "File \u001b[1;32m~\\AppData\\Local\\Packages\\PythonSoftwareFoundation.Python.3.8_qbz5n2kfra8p0\\LocalCache\\local-packages\\Python38\\site-packages\\pyparsing\\core.py:4375\u001b[0m, in \u001b[0;36mParseElementEnhance.parseImpl\u001b[1;34m(self, instring, loc, doActions)\u001b[0m\n\u001b[0;32m   4373\u001b[0m \u001b[39mdef\u001b[39;00m \u001b[39mparseImpl\u001b[39m(\u001b[39mself\u001b[39m, instring, loc, doActions\u001b[39m=\u001b[39m\u001b[39mTrue\u001b[39;00m):\n\u001b[0;32m   4374\u001b[0m     \u001b[39mif\u001b[39;00m \u001b[39mself\u001b[39m\u001b[39m.\u001b[39mexpr \u001b[39mis\u001b[39;00m \u001b[39mnot\u001b[39;00m \u001b[39mNone\u001b[39;00m:\n\u001b[1;32m-> 4375\u001b[0m         \u001b[39mreturn\u001b[39;00m \u001b[39mself\u001b[39;49m\u001b[39m.\u001b[39;49mexpr\u001b[39m.\u001b[39;49m_parse(instring, loc, doActions, callPreParse\u001b[39m=\u001b[39;49m\u001b[39mFalse\u001b[39;49;00m)\n\u001b[0;32m   4376\u001b[0m     \u001b[39melse\u001b[39;00m:\n\u001b[0;32m   4377\u001b[0m         \u001b[39mraise\u001b[39;00m ParseException(instring, loc, \u001b[39m\"\u001b[39m\u001b[39mNo expression defined\u001b[39m\u001b[39m\"\u001b[39m, \u001b[39mself\u001b[39m)\n",
      "File \u001b[1;32m~\\AppData\\Local\\Packages\\PythonSoftwareFoundation.Python.3.8_qbz5n2kfra8p0\\LocalCache\\local-packages\\Python38\\site-packages\\pyparsing\\core.py:921\u001b[0m, in \u001b[0;36mParserElement._parseCache\u001b[1;34m(self, instring, loc, doActions, callPreParse)\u001b[0m\n\u001b[0;32m    919\u001b[0m ParserElement\u001b[39m.\u001b[39mpackrat_cache_stats[MISS] \u001b[39m+\u001b[39m\u001b[39m=\u001b[39m \u001b[39m1\u001b[39m\n\u001b[0;32m    920\u001b[0m \u001b[39mtry\u001b[39;00m:\n\u001b[1;32m--> 921\u001b[0m     value \u001b[39m=\u001b[39m \u001b[39mself\u001b[39;49m\u001b[39m.\u001b[39;49m_parseNoCache(instring, loc, doActions, callPreParse)\n\u001b[0;32m    922\u001b[0m \u001b[39mexcept\u001b[39;00m ParseBaseException \u001b[39mas\u001b[39;00m pe:\n\u001b[0;32m    923\u001b[0m     \u001b[39m# cache a copy of the exception, without the traceback\u001b[39;00m\n\u001b[0;32m    924\u001b[0m     cache\u001b[39m.\u001b[39mset(lookup, pe\u001b[39m.\u001b[39m\u001b[39m__class__\u001b[39m(\u001b[39m*\u001b[39mpe\u001b[39m.\u001b[39margs))\n",
      "File \u001b[1;32m~\\AppData\\Local\\Packages\\PythonSoftwareFoundation.Python.3.8_qbz5n2kfra8p0\\LocalCache\\local-packages\\Python38\\site-packages\\pyparsing\\core.py:817\u001b[0m, in \u001b[0;36mParserElement._parseNoCache\u001b[1;34m(self, instring, loc, doActions, callPreParse)\u001b[0m\n\u001b[0;32m    815\u001b[0m \u001b[39mif\u001b[39;00m \u001b[39mself\u001b[39m\u001b[39m.\u001b[39mmayIndexError \u001b[39mor\u001b[39;00m pre_loc \u001b[39m>\u001b[39m\u001b[39m=\u001b[39m len_instring:\n\u001b[0;32m    816\u001b[0m     \u001b[39mtry\u001b[39;00m:\n\u001b[1;32m--> 817\u001b[0m         loc, tokens \u001b[39m=\u001b[39m \u001b[39mself\u001b[39;49m\u001b[39m.\u001b[39;49mparseImpl(instring, pre_loc, doActions)\n\u001b[0;32m    818\u001b[0m     \u001b[39mexcept\u001b[39;00m \u001b[39mIndexError\u001b[39;00m:\n\u001b[0;32m    819\u001b[0m         \u001b[39mraise\u001b[39;00m ParseException(instring, len_instring, \u001b[39mself\u001b[39m\u001b[39m.\u001b[39merrmsg, \u001b[39mself\u001b[39m)\n",
      "File \u001b[1;32m~\\AppData\\Local\\Packages\\PythonSoftwareFoundation.Python.3.8_qbz5n2kfra8p0\\LocalCache\\local-packages\\Python38\\site-packages\\pyparsing\\core.py:5226\u001b[0m, in \u001b[0;36mForward.parseImpl\u001b[1;34m(self, instring, loc, doActions)\u001b[0m\n\u001b[0;32m   5221\u001b[0m     warnings\u001b[39m.\u001b[39mwarn(\n\u001b[0;32m   5222\u001b[0m         \u001b[39m\"\u001b[39m\u001b[39mForward expression was never assigned a value, will not parse any input\u001b[39m\u001b[39m\"\u001b[39m,\n\u001b[0;32m   5223\u001b[0m         stacklevel\u001b[39m=\u001b[39mstacklevel,\n\u001b[0;32m   5224\u001b[0m     )\n\u001b[0;32m   5225\u001b[0m \u001b[39mif\u001b[39;00m \u001b[39mnot\u001b[39;00m ParserElement\u001b[39m.\u001b[39m_left_recursion_enabled:\n\u001b[1;32m-> 5226\u001b[0m     \u001b[39mreturn\u001b[39;00m \u001b[39msuper\u001b[39;49m()\u001b[39m.\u001b[39;49mparseImpl(instring, loc, doActions)\n\u001b[0;32m   5227\u001b[0m \u001b[39m# ## Bounded Recursion algorithm ##\u001b[39;00m\n\u001b[0;32m   5228\u001b[0m \u001b[39m# Recursion only needs to be processed at ``Forward`` elements, since they are\u001b[39;00m\n\u001b[0;32m   5229\u001b[0m \u001b[39m# the only ones that can actually refer to themselves. The general idea is\u001b[39;00m\n\u001b[1;32m   (...)\u001b[0m\n\u001b[0;32m   5244\u001b[0m \u001b[39m# we expand using `doActions=False` and only run `doActions=True` if the next\u001b[39;00m\n\u001b[0;32m   5245\u001b[0m \u001b[39m# recursion level is acceptable.\u001b[39;00m\n\u001b[0;32m   5246\u001b[0m \u001b[39mwith\u001b[39;00m ParserElement\u001b[39m.\u001b[39mrecursion_lock:\n",
      "File \u001b[1;32m~\\AppData\\Local\\Packages\\PythonSoftwareFoundation.Python.3.8_qbz5n2kfra8p0\\LocalCache\\local-packages\\Python38\\site-packages\\pyparsing\\core.py:4375\u001b[0m, in \u001b[0;36mParseElementEnhance.parseImpl\u001b[1;34m(self, instring, loc, doActions)\u001b[0m\n\u001b[0;32m   4373\u001b[0m \u001b[39mdef\u001b[39;00m \u001b[39mparseImpl\u001b[39m(\u001b[39mself\u001b[39m, instring, loc, doActions\u001b[39m=\u001b[39m\u001b[39mTrue\u001b[39;00m):\n\u001b[0;32m   4374\u001b[0m     \u001b[39mif\u001b[39;00m \u001b[39mself\u001b[39m\u001b[39m.\u001b[39mexpr \u001b[39mis\u001b[39;00m \u001b[39mnot\u001b[39;00m \u001b[39mNone\u001b[39;00m:\n\u001b[1;32m-> 4375\u001b[0m         \u001b[39mreturn\u001b[39;00m \u001b[39mself\u001b[39;49m\u001b[39m.\u001b[39;49mexpr\u001b[39m.\u001b[39;49m_parse(instring, loc, doActions, callPreParse\u001b[39m=\u001b[39;49m\u001b[39mFalse\u001b[39;49;00m)\n\u001b[0;32m   4376\u001b[0m     \u001b[39melse\u001b[39;00m:\n\u001b[0;32m   4377\u001b[0m         \u001b[39mraise\u001b[39;00m ParseException(instring, loc, \u001b[39m\"\u001b[39m\u001b[39mNo expression defined\u001b[39m\u001b[39m\"\u001b[39m, \u001b[39mself\u001b[39m)\n",
      "File \u001b[1;32m~\\AppData\\Local\\Packages\\PythonSoftwareFoundation.Python.3.8_qbz5n2kfra8p0\\LocalCache\\local-packages\\Python38\\site-packages\\pyparsing\\core.py:921\u001b[0m, in \u001b[0;36mParserElement._parseCache\u001b[1;34m(self, instring, loc, doActions, callPreParse)\u001b[0m\n\u001b[0;32m    919\u001b[0m ParserElement\u001b[39m.\u001b[39mpackrat_cache_stats[MISS] \u001b[39m+\u001b[39m\u001b[39m=\u001b[39m \u001b[39m1\u001b[39m\n\u001b[0;32m    920\u001b[0m \u001b[39mtry\u001b[39;00m:\n\u001b[1;32m--> 921\u001b[0m     value \u001b[39m=\u001b[39m \u001b[39mself\u001b[39;49m\u001b[39m.\u001b[39;49m_parseNoCache(instring, loc, doActions, callPreParse)\n\u001b[0;32m    922\u001b[0m \u001b[39mexcept\u001b[39;00m ParseBaseException \u001b[39mas\u001b[39;00m pe:\n\u001b[0;32m    923\u001b[0m     \u001b[39m# cache a copy of the exception, without the traceback\u001b[39;00m\n\u001b[0;32m    924\u001b[0m     cache\u001b[39m.\u001b[39mset(lookup, pe\u001b[39m.\u001b[39m\u001b[39m__class__\u001b[39m(\u001b[39m*\u001b[39mpe\u001b[39m.\u001b[39margs))\n",
      "File \u001b[1;32m~\\AppData\\Local\\Packages\\PythonSoftwareFoundation.Python.3.8_qbz5n2kfra8p0\\LocalCache\\local-packages\\Python38\\site-packages\\pyparsing\\core.py:817\u001b[0m, in \u001b[0;36mParserElement._parseNoCache\u001b[1;34m(self, instring, loc, doActions, callPreParse)\u001b[0m\n\u001b[0;32m    815\u001b[0m \u001b[39mif\u001b[39;00m \u001b[39mself\u001b[39m\u001b[39m.\u001b[39mmayIndexError \u001b[39mor\u001b[39;00m pre_loc \u001b[39m>\u001b[39m\u001b[39m=\u001b[39m len_instring:\n\u001b[0;32m    816\u001b[0m     \u001b[39mtry\u001b[39;00m:\n\u001b[1;32m--> 817\u001b[0m         loc, tokens \u001b[39m=\u001b[39m \u001b[39mself\u001b[39;49m\u001b[39m.\u001b[39;49mparseImpl(instring, pre_loc, doActions)\n\u001b[0;32m    818\u001b[0m     \u001b[39mexcept\u001b[39;00m \u001b[39mIndexError\u001b[39;00m:\n\u001b[0;32m    819\u001b[0m         \u001b[39mraise\u001b[39;00m ParseException(instring, len_instring, \u001b[39mself\u001b[39m\u001b[39m.\u001b[39merrmsg, \u001b[39mself\u001b[39m)\n",
      "File \u001b[1;32m~\\AppData\\Local\\Packages\\PythonSoftwareFoundation.Python.3.8_qbz5n2kfra8p0\\LocalCache\\local-packages\\Python38\\site-packages\\pyparsing\\core.py:3886\u001b[0m, in \u001b[0;36mAnd.parseImpl\u001b[1;34m(self, instring, loc, doActions)\u001b[0m\n\u001b[0;32m   3882\u001b[0m         \u001b[39mraise\u001b[39;00m ParseSyntaxException(\n\u001b[0;32m   3883\u001b[0m             instring, \u001b[39mlen\u001b[39m(instring), \u001b[39mself\u001b[39m\u001b[39m.\u001b[39merrmsg, \u001b[39mself\u001b[39m\n\u001b[0;32m   3884\u001b[0m         )\n\u001b[0;32m   3885\u001b[0m \u001b[39melse\u001b[39;00m:\n\u001b[1;32m-> 3886\u001b[0m     loc, exprtokens \u001b[39m=\u001b[39m e\u001b[39m.\u001b[39;49m_parse(instring, loc, doActions)\n\u001b[0;32m   3887\u001b[0m \u001b[39mif\u001b[39;00m exprtokens \u001b[39mor\u001b[39;00m exprtokens\u001b[39m.\u001b[39mhaskeys():\n\u001b[0;32m   3888\u001b[0m     resultlist \u001b[39m+\u001b[39m\u001b[39m=\u001b[39m exprtokens\n",
      "File \u001b[1;32m~\\AppData\\Local\\Packages\\PythonSoftwareFoundation.Python.3.8_qbz5n2kfra8p0\\LocalCache\\local-packages\\Python38\\site-packages\\pyparsing\\core.py:921\u001b[0m, in \u001b[0;36mParserElement._parseCache\u001b[1;34m(self, instring, loc, doActions, callPreParse)\u001b[0m\n\u001b[0;32m    919\u001b[0m ParserElement\u001b[39m.\u001b[39mpackrat_cache_stats[MISS] \u001b[39m+\u001b[39m\u001b[39m=\u001b[39m \u001b[39m1\u001b[39m\n\u001b[0;32m    920\u001b[0m \u001b[39mtry\u001b[39;00m:\n\u001b[1;32m--> 921\u001b[0m     value \u001b[39m=\u001b[39m \u001b[39mself\u001b[39;49m\u001b[39m.\u001b[39;49m_parseNoCache(instring, loc, doActions, callPreParse)\n\u001b[0;32m    922\u001b[0m \u001b[39mexcept\u001b[39;00m ParseBaseException \u001b[39mas\u001b[39;00m pe:\n\u001b[0;32m    923\u001b[0m     \u001b[39m# cache a copy of the exception, without the traceback\u001b[39;00m\n\u001b[0;32m    924\u001b[0m     cache\u001b[39m.\u001b[39mset(lookup, pe\u001b[39m.\u001b[39m\u001b[39m__class__\u001b[39m(\u001b[39m*\u001b[39mpe\u001b[39m.\u001b[39margs))\n",
      "File \u001b[1;32m~\\AppData\\Local\\Packages\\PythonSoftwareFoundation.Python.3.8_qbz5n2kfra8p0\\LocalCache\\local-packages\\Python38\\site-packages\\pyparsing\\core.py:817\u001b[0m, in \u001b[0;36mParserElement._parseNoCache\u001b[1;34m(self, instring, loc, doActions, callPreParse)\u001b[0m\n\u001b[0;32m    815\u001b[0m \u001b[39mif\u001b[39;00m \u001b[39mself\u001b[39m\u001b[39m.\u001b[39mmayIndexError \u001b[39mor\u001b[39;00m pre_loc \u001b[39m>\u001b[39m\u001b[39m=\u001b[39m len_instring:\n\u001b[0;32m    816\u001b[0m     \u001b[39mtry\u001b[39;00m:\n\u001b[1;32m--> 817\u001b[0m         loc, tokens \u001b[39m=\u001b[39m \u001b[39mself\u001b[39;49m\u001b[39m.\u001b[39;49mparseImpl(instring, pre_loc, doActions)\n\u001b[0;32m    818\u001b[0m     \u001b[39mexcept\u001b[39;00m \u001b[39mIndexError\u001b[39;00m:\n\u001b[0;32m    819\u001b[0m         \u001b[39mraise\u001b[39;00m ParseException(instring, len_instring, \u001b[39mself\u001b[39m\u001b[39m.\u001b[39merrmsg, \u001b[39mself\u001b[39m)\n",
      "File \u001b[1;32m~\\AppData\\Local\\Packages\\PythonSoftwareFoundation.Python.3.8_qbz5n2kfra8p0\\LocalCache\\local-packages\\Python38\\site-packages\\pyparsing\\core.py:4114\u001b[0m, in \u001b[0;36mMatchFirst.parseImpl\u001b[1;34m(self, instring, loc, doActions)\u001b[0m\n\u001b[0;32m   4112\u001b[0m \u001b[39mfor\u001b[39;00m e \u001b[39min\u001b[39;00m \u001b[39mself\u001b[39m\u001b[39m.\u001b[39mexprs:\n\u001b[0;32m   4113\u001b[0m     \u001b[39mtry\u001b[39;00m:\n\u001b[1;32m-> 4114\u001b[0m         \u001b[39mreturn\u001b[39;00m e\u001b[39m.\u001b[39;49m_parse(\n\u001b[0;32m   4115\u001b[0m             instring,\n\u001b[0;32m   4116\u001b[0m             loc,\n\u001b[0;32m   4117\u001b[0m             doActions,\n\u001b[0;32m   4118\u001b[0m         )\n\u001b[0;32m   4119\u001b[0m     \u001b[39mexcept\u001b[39;00m ParseFatalException \u001b[39mas\u001b[39;00m pfe:\n\u001b[0;32m   4120\u001b[0m         pfe\u001b[39m.\u001b[39m__traceback__ \u001b[39m=\u001b[39m \u001b[39mNone\u001b[39;00m\n",
      "    \u001b[1;31m[... skipping similar frames: ParserElement._parseCache at line 921 (1 times), ParserElement._parseNoCache at line 817 (1 times)]\u001b[0m\n",
      "File \u001b[1;32m~\\AppData\\Local\\Packages\\PythonSoftwareFoundation.Python.3.8_qbz5n2kfra8p0\\LocalCache\\local-packages\\Python38\\site-packages\\pyparsing\\core.py:4375\u001b[0m, in \u001b[0;36mParseElementEnhance.parseImpl\u001b[1;34m(self, instring, loc, doActions)\u001b[0m\n\u001b[0;32m   4373\u001b[0m \u001b[39mdef\u001b[39;00m \u001b[39mparseImpl\u001b[39m(\u001b[39mself\u001b[39m, instring, loc, doActions\u001b[39m=\u001b[39m\u001b[39mTrue\u001b[39;00m):\n\u001b[0;32m   4374\u001b[0m     \u001b[39mif\u001b[39;00m \u001b[39mself\u001b[39m\u001b[39m.\u001b[39mexpr \u001b[39mis\u001b[39;00m \u001b[39mnot\u001b[39;00m \u001b[39mNone\u001b[39;00m:\n\u001b[1;32m-> 4375\u001b[0m         \u001b[39mreturn\u001b[39;00m \u001b[39mself\u001b[39;49m\u001b[39m.\u001b[39;49mexpr\u001b[39m.\u001b[39;49m_parse(instring, loc, doActions, callPreParse\u001b[39m=\u001b[39;49m\u001b[39mFalse\u001b[39;49;00m)\n\u001b[0;32m   4376\u001b[0m     \u001b[39melse\u001b[39;00m:\n\u001b[0;32m   4377\u001b[0m         \u001b[39mraise\u001b[39;00m ParseException(instring, loc, \u001b[39m\"\u001b[39m\u001b[39mNo expression defined\u001b[39m\u001b[39m\"\u001b[39m, \u001b[39mself\u001b[39m)\n",
      "    \u001b[1;31m[... skipping similar frames: ParserElement._parseCache at line 921 (1 times), ParserElement._parseNoCache at line 817 (1 times)]\u001b[0m\n",
      "File \u001b[1;32m~\\AppData\\Local\\Packages\\PythonSoftwareFoundation.Python.3.8_qbz5n2kfra8p0\\LocalCache\\local-packages\\Python38\\site-packages\\pyparsing\\core.py:3886\u001b[0m, in \u001b[0;36mAnd.parseImpl\u001b[1;34m(self, instring, loc, doActions)\u001b[0m\n\u001b[0;32m   3882\u001b[0m         \u001b[39mraise\u001b[39;00m ParseSyntaxException(\n\u001b[0;32m   3883\u001b[0m             instring, \u001b[39mlen\u001b[39m(instring), \u001b[39mself\u001b[39m\u001b[39m.\u001b[39merrmsg, \u001b[39mself\u001b[39m\n\u001b[0;32m   3884\u001b[0m         )\n\u001b[0;32m   3885\u001b[0m \u001b[39melse\u001b[39;00m:\n\u001b[1;32m-> 3886\u001b[0m     loc, exprtokens \u001b[39m=\u001b[39m e\u001b[39m.\u001b[39;49m_parse(instring, loc, doActions)\n\u001b[0;32m   3887\u001b[0m \u001b[39mif\u001b[39;00m exprtokens \u001b[39mor\u001b[39;00m exprtokens\u001b[39m.\u001b[39mhaskeys():\n\u001b[0;32m   3888\u001b[0m     resultlist \u001b[39m+\u001b[39m\u001b[39m=\u001b[39m exprtokens\n",
      "File \u001b[1;32m~\\AppData\\Local\\Packages\\PythonSoftwareFoundation.Python.3.8_qbz5n2kfra8p0\\LocalCache\\local-packages\\Python38\\site-packages\\pyparsing\\core.py:921\u001b[0m, in \u001b[0;36mParserElement._parseCache\u001b[1;34m(self, instring, loc, doActions, callPreParse)\u001b[0m\n\u001b[0;32m    919\u001b[0m ParserElement\u001b[39m.\u001b[39mpackrat_cache_stats[MISS] \u001b[39m+\u001b[39m\u001b[39m=\u001b[39m \u001b[39m1\u001b[39m\n\u001b[0;32m    920\u001b[0m \u001b[39mtry\u001b[39;00m:\n\u001b[1;32m--> 921\u001b[0m     value \u001b[39m=\u001b[39m \u001b[39mself\u001b[39;49m\u001b[39m.\u001b[39;49m_parseNoCache(instring, loc, doActions, callPreParse)\n\u001b[0;32m    922\u001b[0m \u001b[39mexcept\u001b[39;00m ParseBaseException \u001b[39mas\u001b[39;00m pe:\n\u001b[0;32m    923\u001b[0m     \u001b[39m# cache a copy of the exception, without the traceback\u001b[39;00m\n\u001b[0;32m    924\u001b[0m     cache\u001b[39m.\u001b[39mset(lookup, pe\u001b[39m.\u001b[39m\u001b[39m__class__\u001b[39m(\u001b[39m*\u001b[39mpe\u001b[39m.\u001b[39margs))\n",
      "File \u001b[1;32m~\\AppData\\Local\\Packages\\PythonSoftwareFoundation.Python.3.8_qbz5n2kfra8p0\\LocalCache\\local-packages\\Python38\\site-packages\\pyparsing\\core.py:817\u001b[0m, in \u001b[0;36mParserElement._parseNoCache\u001b[1;34m(self, instring, loc, doActions, callPreParse)\u001b[0m\n\u001b[0;32m    815\u001b[0m \u001b[39mif\u001b[39;00m \u001b[39mself\u001b[39m\u001b[39m.\u001b[39mmayIndexError \u001b[39mor\u001b[39;00m pre_loc \u001b[39m>\u001b[39m\u001b[39m=\u001b[39m len_instring:\n\u001b[0;32m    816\u001b[0m     \u001b[39mtry\u001b[39;00m:\n\u001b[1;32m--> 817\u001b[0m         loc, tokens \u001b[39m=\u001b[39m \u001b[39mself\u001b[39;49m\u001b[39m.\u001b[39;49mparseImpl(instring, pre_loc, doActions)\n\u001b[0;32m    818\u001b[0m     \u001b[39mexcept\u001b[39;00m \u001b[39mIndexError\u001b[39;00m:\n\u001b[0;32m    819\u001b[0m         \u001b[39mraise\u001b[39;00m ParseException(instring, len_instring, \u001b[39mself\u001b[39m\u001b[39m.\u001b[39merrmsg, \u001b[39mself\u001b[39m)\n",
      "File \u001b[1;32m~\\AppData\\Local\\Packages\\PythonSoftwareFoundation.Python.3.8_qbz5n2kfra8p0\\LocalCache\\local-packages\\Python38\\site-packages\\pyparsing\\core.py:4891\u001b[0m, in \u001b[0;36mZeroOrMore.parseImpl\u001b[1;34m(self, instring, loc, doActions)\u001b[0m\n\u001b[0;32m   4889\u001b[0m \u001b[39mdef\u001b[39;00m \u001b[39mparseImpl\u001b[39m(\u001b[39mself\u001b[39m, instring, loc, doActions\u001b[39m=\u001b[39m\u001b[39mTrue\u001b[39;00m):\n\u001b[0;32m   4890\u001b[0m     \u001b[39mtry\u001b[39;00m:\n\u001b[1;32m-> 4891\u001b[0m         \u001b[39mreturn\u001b[39;00m \u001b[39msuper\u001b[39;49m()\u001b[39m.\u001b[39;49mparseImpl(instring, loc, doActions)\n\u001b[0;32m   4892\u001b[0m     \u001b[39mexcept\u001b[39;00m (ParseException, \u001b[39mIndexError\u001b[39;00m):\n\u001b[0;32m   4893\u001b[0m         \u001b[39mreturn\u001b[39;00m loc, ParseResults([], name\u001b[39m=\u001b[39m\u001b[39mself\u001b[39m\u001b[39m.\u001b[39mresultsName)\n",
      "File \u001b[1;32m~\\AppData\\Local\\Packages\\PythonSoftwareFoundation.Python.3.8_qbz5n2kfra8p0\\LocalCache\\local-packages\\Python38\\site-packages\\pyparsing\\core.py:4800\u001b[0m, in \u001b[0;36m_MultipleMatch.parseImpl\u001b[1;34m(self, instring, loc, doActions)\u001b[0m\n\u001b[0;32m   4798\u001b[0m \u001b[39melse\u001b[39;00m:\n\u001b[0;32m   4799\u001b[0m     preloc \u001b[39m=\u001b[39m loc\n\u001b[1;32m-> 4800\u001b[0m loc, tmptokens \u001b[39m=\u001b[39m self_expr_parse(instring, preloc, doActions)\n\u001b[0;32m   4801\u001b[0m \u001b[39mif\u001b[39;00m tmptokens \u001b[39mor\u001b[39;00m tmptokens\u001b[39m.\u001b[39mhaskeys():\n\u001b[0;32m   4802\u001b[0m     tokens \u001b[39m+\u001b[39m\u001b[39m=\u001b[39m tmptokens\n",
      "File \u001b[1;32m~\\AppData\\Local\\Packages\\PythonSoftwareFoundation.Python.3.8_qbz5n2kfra8p0\\LocalCache\\local-packages\\Python38\\site-packages\\pyparsing\\core.py:921\u001b[0m, in \u001b[0;36mParserElement._parseCache\u001b[1;34m(self, instring, loc, doActions, callPreParse)\u001b[0m\n\u001b[0;32m    919\u001b[0m ParserElement\u001b[39m.\u001b[39mpackrat_cache_stats[MISS] \u001b[39m+\u001b[39m\u001b[39m=\u001b[39m \u001b[39m1\u001b[39m\n\u001b[0;32m    920\u001b[0m \u001b[39mtry\u001b[39;00m:\n\u001b[1;32m--> 921\u001b[0m     value \u001b[39m=\u001b[39m \u001b[39mself\u001b[39;49m\u001b[39m.\u001b[39;49m_parseNoCache(instring, loc, doActions, callPreParse)\n\u001b[0;32m    922\u001b[0m \u001b[39mexcept\u001b[39;00m ParseBaseException \u001b[39mas\u001b[39;00m pe:\n\u001b[0;32m    923\u001b[0m     \u001b[39m# cache a copy of the exception, without the traceback\u001b[39;00m\n\u001b[0;32m    924\u001b[0m     cache\u001b[39m.\u001b[39mset(lookup, pe\u001b[39m.\u001b[39m\u001b[39m__class__\u001b[39m(\u001b[39m*\u001b[39mpe\u001b[39m.\u001b[39margs))\n",
      "File \u001b[1;32m~\\AppData\\Local\\Packages\\PythonSoftwareFoundation.Python.3.8_qbz5n2kfra8p0\\LocalCache\\local-packages\\Python38\\site-packages\\pyparsing\\core.py:817\u001b[0m, in \u001b[0;36mParserElement._parseNoCache\u001b[1;34m(self, instring, loc, doActions, callPreParse)\u001b[0m\n\u001b[0;32m    815\u001b[0m \u001b[39mif\u001b[39;00m \u001b[39mself\u001b[39m\u001b[39m.\u001b[39mmayIndexError \u001b[39mor\u001b[39;00m pre_loc \u001b[39m>\u001b[39m\u001b[39m=\u001b[39m len_instring:\n\u001b[0;32m    816\u001b[0m     \u001b[39mtry\u001b[39;00m:\n\u001b[1;32m--> 817\u001b[0m         loc, tokens \u001b[39m=\u001b[39m \u001b[39mself\u001b[39;49m\u001b[39m.\u001b[39;49mparseImpl(instring, pre_loc, doActions)\n\u001b[0;32m    818\u001b[0m     \u001b[39mexcept\u001b[39;00m \u001b[39mIndexError\u001b[39;00m:\n\u001b[0;32m    819\u001b[0m         \u001b[39mraise\u001b[39;00m ParseException(instring, len_instring, \u001b[39mself\u001b[39m\u001b[39m.\u001b[39merrmsg, \u001b[39mself\u001b[39m)\n",
      "File \u001b[1;32m~\\AppData\\Local\\Packages\\PythonSoftwareFoundation.Python.3.8_qbz5n2kfra8p0\\LocalCache\\local-packages\\Python38\\site-packages\\pyparsing\\core.py:3864\u001b[0m, in \u001b[0;36mAnd.parseImpl\u001b[1;34m(self, instring, loc, doActions)\u001b[0m\n\u001b[0;32m   3861\u001b[0m \u001b[39mdef\u001b[39;00m \u001b[39mparseImpl\u001b[39m(\u001b[39mself\u001b[39m, instring, loc, doActions\u001b[39m=\u001b[39m\u001b[39mTrue\u001b[39;00m):\n\u001b[0;32m   3862\u001b[0m     \u001b[39m# pass False as callPreParse arg to _parse for first element, since we already\u001b[39;00m\n\u001b[0;32m   3863\u001b[0m     \u001b[39m# pre-parsed the string as part of our And pre-parsing\u001b[39;00m\n\u001b[1;32m-> 3864\u001b[0m     loc, resultlist \u001b[39m=\u001b[39m \u001b[39mself\u001b[39;49m\u001b[39m.\u001b[39;49mexprs[\u001b[39m0\u001b[39;49m]\u001b[39m.\u001b[39;49m_parse(\n\u001b[0;32m   3865\u001b[0m         instring, loc, doActions, callPreParse\u001b[39m=\u001b[39;49m\u001b[39mFalse\u001b[39;49;00m\n\u001b[0;32m   3866\u001b[0m     )\n\u001b[0;32m   3867\u001b[0m     errorStop \u001b[39m=\u001b[39m \u001b[39mFalse\u001b[39;00m\n\u001b[0;32m   3868\u001b[0m     \u001b[39mfor\u001b[39;00m e \u001b[39min\u001b[39;00m \u001b[39mself\u001b[39m\u001b[39m.\u001b[39mexprs[\u001b[39m1\u001b[39m:]:\n\u001b[0;32m   3869\u001b[0m         \u001b[39m# if isinstance(e, And._ErrorStop):\u001b[39;00m\n",
      "File \u001b[1;32m~\\AppData\\Local\\Packages\\PythonSoftwareFoundation.Python.3.8_qbz5n2kfra8p0\\LocalCache\\local-packages\\Python38\\site-packages\\pyparsing\\core.py:921\u001b[0m, in \u001b[0;36mParserElement._parseCache\u001b[1;34m(self, instring, loc, doActions, callPreParse)\u001b[0m\n\u001b[0;32m    919\u001b[0m ParserElement\u001b[39m.\u001b[39mpackrat_cache_stats[MISS] \u001b[39m+\u001b[39m\u001b[39m=\u001b[39m \u001b[39m1\u001b[39m\n\u001b[0;32m    920\u001b[0m \u001b[39mtry\u001b[39;00m:\n\u001b[1;32m--> 921\u001b[0m     value \u001b[39m=\u001b[39m \u001b[39mself\u001b[39;49m\u001b[39m.\u001b[39;49m_parseNoCache(instring, loc, doActions, callPreParse)\n\u001b[0;32m    922\u001b[0m \u001b[39mexcept\u001b[39;00m ParseBaseException \u001b[39mas\u001b[39;00m pe:\n\u001b[0;32m    923\u001b[0m     \u001b[39m# cache a copy of the exception, without the traceback\u001b[39;00m\n\u001b[0;32m    924\u001b[0m     cache\u001b[39m.\u001b[39mset(lookup, pe\u001b[39m.\u001b[39m\u001b[39m__class__\u001b[39m(\u001b[39m*\u001b[39mpe\u001b[39m.\u001b[39margs))\n",
      "File \u001b[1;32m~\\AppData\\Local\\Packages\\PythonSoftwareFoundation.Python.3.8_qbz5n2kfra8p0\\LocalCache\\local-packages\\Python38\\site-packages\\pyparsing\\core.py:817\u001b[0m, in \u001b[0;36mParserElement._parseNoCache\u001b[1;34m(self, instring, loc, doActions, callPreParse)\u001b[0m\n\u001b[0;32m    815\u001b[0m \u001b[39mif\u001b[39;00m \u001b[39mself\u001b[39m\u001b[39m.\u001b[39mmayIndexError \u001b[39mor\u001b[39;00m pre_loc \u001b[39m>\u001b[39m\u001b[39m=\u001b[39m len_instring:\n\u001b[0;32m    816\u001b[0m     \u001b[39mtry\u001b[39;00m:\n\u001b[1;32m--> 817\u001b[0m         loc, tokens \u001b[39m=\u001b[39m \u001b[39mself\u001b[39;49m\u001b[39m.\u001b[39;49mparseImpl(instring, pre_loc, doActions)\n\u001b[0;32m    818\u001b[0m     \u001b[39mexcept\u001b[39;00m \u001b[39mIndexError\u001b[39;00m:\n\u001b[0;32m    819\u001b[0m         \u001b[39mraise\u001b[39;00m ParseException(instring, len_instring, \u001b[39mself\u001b[39m\u001b[39m.\u001b[39merrmsg, \u001b[39mself\u001b[39m)\n",
      "File \u001b[1;32m~\\AppData\\Local\\Packages\\PythonSoftwareFoundation.Python.3.8_qbz5n2kfra8p0\\LocalCache\\local-packages\\Python38\\site-packages\\pyparsing\\core.py:4375\u001b[0m, in \u001b[0;36mParseElementEnhance.parseImpl\u001b[1;34m(self, instring, loc, doActions)\u001b[0m\n\u001b[0;32m   4373\u001b[0m \u001b[39mdef\u001b[39;00m \u001b[39mparseImpl\u001b[39m(\u001b[39mself\u001b[39m, instring, loc, doActions\u001b[39m=\u001b[39m\u001b[39mTrue\u001b[39;00m):\n\u001b[0;32m   4374\u001b[0m     \u001b[39mif\u001b[39;00m \u001b[39mself\u001b[39m\u001b[39m.\u001b[39mexpr \u001b[39mis\u001b[39;00m \u001b[39mnot\u001b[39;00m \u001b[39mNone\u001b[39;00m:\n\u001b[1;32m-> 4375\u001b[0m         \u001b[39mreturn\u001b[39;00m \u001b[39mself\u001b[39;49m\u001b[39m.\u001b[39;49mexpr\u001b[39m.\u001b[39;49m_parse(instring, loc, doActions, callPreParse\u001b[39m=\u001b[39;49m\u001b[39mFalse\u001b[39;49;00m)\n\u001b[0;32m   4376\u001b[0m     \u001b[39melse\u001b[39;00m:\n\u001b[0;32m   4377\u001b[0m         \u001b[39mraise\u001b[39;00m ParseException(instring, loc, \u001b[39m\"\u001b[39m\u001b[39mNo expression defined\u001b[39m\u001b[39m\"\u001b[39m, \u001b[39mself\u001b[39m)\n",
      "    \u001b[1;31m[... skipping similar frames: ParserElement._parseCache at line 921 (1 times), ParserElement._parseNoCache at line 817 (1 times)]\u001b[0m\n",
      "File \u001b[1;32m~\\AppData\\Local\\Packages\\PythonSoftwareFoundation.Python.3.8_qbz5n2kfra8p0\\LocalCache\\local-packages\\Python38\\site-packages\\pyparsing\\core.py:4114\u001b[0m, in \u001b[0;36mMatchFirst.parseImpl\u001b[1;34m(self, instring, loc, doActions)\u001b[0m\n\u001b[0;32m   4112\u001b[0m \u001b[39mfor\u001b[39;00m e \u001b[39min\u001b[39;00m \u001b[39mself\u001b[39m\u001b[39m.\u001b[39mexprs:\n\u001b[0;32m   4113\u001b[0m     \u001b[39mtry\u001b[39;00m:\n\u001b[1;32m-> 4114\u001b[0m         \u001b[39mreturn\u001b[39;00m e\u001b[39m.\u001b[39;49m_parse(\n\u001b[0;32m   4115\u001b[0m             instring,\n\u001b[0;32m   4116\u001b[0m             loc,\n\u001b[0;32m   4117\u001b[0m             doActions,\n\u001b[0;32m   4118\u001b[0m         )\n\u001b[0;32m   4119\u001b[0m     \u001b[39mexcept\u001b[39;00m ParseFatalException \u001b[39mas\u001b[39;00m pfe:\n\u001b[0;32m   4120\u001b[0m         pfe\u001b[39m.\u001b[39m__traceback__ \u001b[39m=\u001b[39m \u001b[39mNone\u001b[39;00m\n",
      "    \u001b[1;31m[... skipping similar frames: ParserElement._parseCache at line 921 (1 times), ParserElement._parseNoCache at line 817 (1 times)]\u001b[0m\n",
      "File \u001b[1;32m~\\AppData\\Local\\Packages\\PythonSoftwareFoundation.Python.3.8_qbz5n2kfra8p0\\LocalCache\\local-packages\\Python38\\site-packages\\pyparsing\\core.py:4375\u001b[0m, in \u001b[0;36mParseElementEnhance.parseImpl\u001b[1;34m(self, instring, loc, doActions)\u001b[0m\n\u001b[0;32m   4373\u001b[0m \u001b[39mdef\u001b[39;00m \u001b[39mparseImpl\u001b[39m(\u001b[39mself\u001b[39m, instring, loc, doActions\u001b[39m=\u001b[39m\u001b[39mTrue\u001b[39;00m):\n\u001b[0;32m   4374\u001b[0m     \u001b[39mif\u001b[39;00m \u001b[39mself\u001b[39m\u001b[39m.\u001b[39mexpr \u001b[39mis\u001b[39;00m \u001b[39mnot\u001b[39;00m \u001b[39mNone\u001b[39;00m:\n\u001b[1;32m-> 4375\u001b[0m         \u001b[39mreturn\u001b[39;00m \u001b[39mself\u001b[39;49m\u001b[39m.\u001b[39;49mexpr\u001b[39m.\u001b[39;49m_parse(instring, loc, doActions, callPreParse\u001b[39m=\u001b[39;49m\u001b[39mFalse\u001b[39;49;00m)\n\u001b[0;32m   4376\u001b[0m     \u001b[39melse\u001b[39;00m:\n\u001b[0;32m   4377\u001b[0m         \u001b[39mraise\u001b[39;00m ParseException(instring, loc, \u001b[39m\"\u001b[39m\u001b[39mNo expression defined\u001b[39m\u001b[39m\"\u001b[39m, \u001b[39mself\u001b[39m)\n",
      "    \u001b[1;31m[... skipping similar frames: ParserElement._parseCache at line 921 (1 times), ParserElement._parseNoCache at line 817 (1 times)]\u001b[0m\n",
      "File \u001b[1;32m~\\AppData\\Local\\Packages\\PythonSoftwareFoundation.Python.3.8_qbz5n2kfra8p0\\LocalCache\\local-packages\\Python38\\site-packages\\pyparsing\\core.py:3886\u001b[0m, in \u001b[0;36mAnd.parseImpl\u001b[1;34m(self, instring, loc, doActions)\u001b[0m\n\u001b[0;32m   3882\u001b[0m         \u001b[39mraise\u001b[39;00m ParseSyntaxException(\n\u001b[0;32m   3883\u001b[0m             instring, \u001b[39mlen\u001b[39m(instring), \u001b[39mself\u001b[39m\u001b[39m.\u001b[39merrmsg, \u001b[39mself\u001b[39m\n\u001b[0;32m   3884\u001b[0m         )\n\u001b[0;32m   3885\u001b[0m \u001b[39melse\u001b[39;00m:\n\u001b[1;32m-> 3886\u001b[0m     loc, exprtokens \u001b[39m=\u001b[39m e\u001b[39m.\u001b[39;49m_parse(instring, loc, doActions)\n\u001b[0;32m   3887\u001b[0m \u001b[39mif\u001b[39;00m exprtokens \u001b[39mor\u001b[39;00m exprtokens\u001b[39m.\u001b[39mhaskeys():\n\u001b[0;32m   3888\u001b[0m     resultlist \u001b[39m+\u001b[39m\u001b[39m=\u001b[39m exprtokens\n",
      "    \u001b[1;31m[... skipping similar frames: ParserElement._parseCache at line 921 (1 times), ParserElement._parseNoCache at line 817 (1 times)]\u001b[0m\n",
      "File \u001b[1;32m~\\AppData\\Local\\Packages\\PythonSoftwareFoundation.Python.3.8_qbz5n2kfra8p0\\LocalCache\\local-packages\\Python38\\site-packages\\pyparsing\\core.py:4375\u001b[0m, in \u001b[0;36mParseElementEnhance.parseImpl\u001b[1;34m(self, instring, loc, doActions)\u001b[0m\n\u001b[0;32m   4373\u001b[0m \u001b[39mdef\u001b[39;00m \u001b[39mparseImpl\u001b[39m(\u001b[39mself\u001b[39m, instring, loc, doActions\u001b[39m=\u001b[39m\u001b[39mTrue\u001b[39;00m):\n\u001b[0;32m   4374\u001b[0m     \u001b[39mif\u001b[39;00m \u001b[39mself\u001b[39m\u001b[39m.\u001b[39mexpr \u001b[39mis\u001b[39;00m \u001b[39mnot\u001b[39;00m \u001b[39mNone\u001b[39;00m:\n\u001b[1;32m-> 4375\u001b[0m         \u001b[39mreturn\u001b[39;00m \u001b[39mself\u001b[39;49m\u001b[39m.\u001b[39;49mexpr\u001b[39m.\u001b[39;49m_parse(instring, loc, doActions, callPreParse\u001b[39m=\u001b[39;49m\u001b[39mFalse\u001b[39;49;00m)\n\u001b[0;32m   4376\u001b[0m     \u001b[39melse\u001b[39;00m:\n\u001b[0;32m   4377\u001b[0m         \u001b[39mraise\u001b[39;00m ParseException(instring, loc, \u001b[39m\"\u001b[39m\u001b[39mNo expression defined\u001b[39m\u001b[39m\"\u001b[39m, \u001b[39mself\u001b[39m)\n",
      "    \u001b[1;31m[... skipping similar frames: ParserElement._parseCache at line 921 (1 times), ParserElement._parseNoCache at line 817 (1 times)]\u001b[0m\n",
      "File \u001b[1;32m~\\AppData\\Local\\Packages\\PythonSoftwareFoundation.Python.3.8_qbz5n2kfra8p0\\LocalCache\\local-packages\\Python38\\site-packages\\pyparsing\\core.py:4114\u001b[0m, in \u001b[0;36mMatchFirst.parseImpl\u001b[1;34m(self, instring, loc, doActions)\u001b[0m\n\u001b[0;32m   4112\u001b[0m \u001b[39mfor\u001b[39;00m e \u001b[39min\u001b[39;00m \u001b[39mself\u001b[39m\u001b[39m.\u001b[39mexprs:\n\u001b[0;32m   4113\u001b[0m     \u001b[39mtry\u001b[39;00m:\n\u001b[1;32m-> 4114\u001b[0m         \u001b[39mreturn\u001b[39;00m e\u001b[39m.\u001b[39;49m_parse(\n\u001b[0;32m   4115\u001b[0m             instring,\n\u001b[0;32m   4116\u001b[0m             loc,\n\u001b[0;32m   4117\u001b[0m             doActions,\n\u001b[0;32m   4118\u001b[0m         )\n\u001b[0;32m   4119\u001b[0m     \u001b[39mexcept\u001b[39;00m ParseFatalException \u001b[39mas\u001b[39;00m pfe:\n\u001b[0;32m   4120\u001b[0m         pfe\u001b[39m.\u001b[39m__traceback__ \u001b[39m=\u001b[39m \u001b[39mNone\u001b[39;00m\n",
      "    \u001b[1;31m[... skipping similar frames: ParserElement._parseCache at line 921 (1 times), ParserElement._parseNoCache at line 817 (1 times)]\u001b[0m\n",
      "File \u001b[1;32m~\\AppData\\Local\\Packages\\PythonSoftwareFoundation.Python.3.8_qbz5n2kfra8p0\\LocalCache\\local-packages\\Python38\\site-packages\\pyparsing\\core.py:3886\u001b[0m, in \u001b[0;36mAnd.parseImpl\u001b[1;34m(self, instring, loc, doActions)\u001b[0m\n\u001b[0;32m   3882\u001b[0m         \u001b[39mraise\u001b[39;00m ParseSyntaxException(\n\u001b[0;32m   3883\u001b[0m             instring, \u001b[39mlen\u001b[39m(instring), \u001b[39mself\u001b[39m\u001b[39m.\u001b[39merrmsg, \u001b[39mself\u001b[39m\n\u001b[0;32m   3884\u001b[0m         )\n\u001b[0;32m   3885\u001b[0m \u001b[39melse\u001b[39;00m:\n\u001b[1;32m-> 3886\u001b[0m     loc, exprtokens \u001b[39m=\u001b[39m e\u001b[39m.\u001b[39;49m_parse(instring, loc, doActions)\n\u001b[0;32m   3887\u001b[0m \u001b[39mif\u001b[39;00m exprtokens \u001b[39mor\u001b[39;00m exprtokens\u001b[39m.\u001b[39mhaskeys():\n\u001b[0;32m   3888\u001b[0m     resultlist \u001b[39m+\u001b[39m\u001b[39m=\u001b[39m exprtokens\n",
      "File \u001b[1;32m~\\AppData\\Local\\Packages\\PythonSoftwareFoundation.Python.3.8_qbz5n2kfra8p0\\LocalCache\\local-packages\\Python38\\site-packages\\pyparsing\\core.py:921\u001b[0m, in \u001b[0;36mParserElement._parseCache\u001b[1;34m(self, instring, loc, doActions, callPreParse)\u001b[0m\n\u001b[0;32m    919\u001b[0m ParserElement\u001b[39m.\u001b[39mpackrat_cache_stats[MISS] \u001b[39m+\u001b[39m\u001b[39m=\u001b[39m \u001b[39m1\u001b[39m\n\u001b[0;32m    920\u001b[0m \u001b[39mtry\u001b[39;00m:\n\u001b[1;32m--> 921\u001b[0m     value \u001b[39m=\u001b[39m \u001b[39mself\u001b[39;49m\u001b[39m.\u001b[39;49m_parseNoCache(instring, loc, doActions, callPreParse)\n\u001b[0;32m    922\u001b[0m \u001b[39mexcept\u001b[39;00m ParseBaseException \u001b[39mas\u001b[39;00m pe:\n\u001b[0;32m    923\u001b[0m     \u001b[39m# cache a copy of the exception, without the traceback\u001b[39;00m\n\u001b[0;32m    924\u001b[0m     cache\u001b[39m.\u001b[39mset(lookup, pe\u001b[39m.\u001b[39m\u001b[39m__class__\u001b[39m(\u001b[39m*\u001b[39mpe\u001b[39m.\u001b[39margs))\n",
      "File \u001b[1;32m~\\AppData\\Local\\Packages\\PythonSoftwareFoundation.Python.3.8_qbz5n2kfra8p0\\LocalCache\\local-packages\\Python38\\site-packages\\pyparsing\\core.py:817\u001b[0m, in \u001b[0;36mParserElement._parseNoCache\u001b[1;34m(self, instring, loc, doActions, callPreParse)\u001b[0m\n\u001b[0;32m    815\u001b[0m \u001b[39mif\u001b[39;00m \u001b[39mself\u001b[39m\u001b[39m.\u001b[39mmayIndexError \u001b[39mor\u001b[39;00m pre_loc \u001b[39m>\u001b[39m\u001b[39m=\u001b[39m len_instring:\n\u001b[0;32m    816\u001b[0m     \u001b[39mtry\u001b[39;00m:\n\u001b[1;32m--> 817\u001b[0m         loc, tokens \u001b[39m=\u001b[39m \u001b[39mself\u001b[39;49m\u001b[39m.\u001b[39;49mparseImpl(instring, pre_loc, doActions)\n\u001b[0;32m    818\u001b[0m     \u001b[39mexcept\u001b[39;00m \u001b[39mIndexError\u001b[39;00m:\n\u001b[0;32m    819\u001b[0m         \u001b[39mraise\u001b[39;00m ParseException(instring, len_instring, \u001b[39mself\u001b[39m\u001b[39m.\u001b[39merrmsg, \u001b[39mself\u001b[39m)\n",
      "File \u001b[1;32m~\\AppData\\Local\\Packages\\PythonSoftwareFoundation.Python.3.8_qbz5n2kfra8p0\\LocalCache\\local-packages\\Python38\\site-packages\\pyparsing\\core.py:5226\u001b[0m, in \u001b[0;36mForward.parseImpl\u001b[1;34m(self, instring, loc, doActions)\u001b[0m\n\u001b[0;32m   5221\u001b[0m     warnings\u001b[39m.\u001b[39mwarn(\n\u001b[0;32m   5222\u001b[0m         \u001b[39m\"\u001b[39m\u001b[39mForward expression was never assigned a value, will not parse any input\u001b[39m\u001b[39m\"\u001b[39m,\n\u001b[0;32m   5223\u001b[0m         stacklevel\u001b[39m=\u001b[39mstacklevel,\n\u001b[0;32m   5224\u001b[0m     )\n\u001b[0;32m   5225\u001b[0m \u001b[39mif\u001b[39;00m \u001b[39mnot\u001b[39;00m ParserElement\u001b[39m.\u001b[39m_left_recursion_enabled:\n\u001b[1;32m-> 5226\u001b[0m     \u001b[39mreturn\u001b[39;00m \u001b[39msuper\u001b[39;49m()\u001b[39m.\u001b[39;49mparseImpl(instring, loc, doActions)\n\u001b[0;32m   5227\u001b[0m \u001b[39m# ## Bounded Recursion algorithm ##\u001b[39;00m\n\u001b[0;32m   5228\u001b[0m \u001b[39m# Recursion only needs to be processed at ``Forward`` elements, since they are\u001b[39;00m\n\u001b[0;32m   5229\u001b[0m \u001b[39m# the only ones that can actually refer to themselves. The general idea is\u001b[39;00m\n\u001b[1;32m   (...)\u001b[0m\n\u001b[0;32m   5244\u001b[0m \u001b[39m# we expand using `doActions=False` and only run `doActions=True` if the next\u001b[39;00m\n\u001b[0;32m   5245\u001b[0m \u001b[39m# recursion level is acceptable.\u001b[39;00m\n\u001b[0;32m   5246\u001b[0m \u001b[39mwith\u001b[39;00m ParserElement\u001b[39m.\u001b[39mrecursion_lock:\n",
      "File \u001b[1;32m~\\AppData\\Local\\Packages\\PythonSoftwareFoundation.Python.3.8_qbz5n2kfra8p0\\LocalCache\\local-packages\\Python38\\site-packages\\pyparsing\\core.py:4375\u001b[0m, in \u001b[0;36mParseElementEnhance.parseImpl\u001b[1;34m(self, instring, loc, doActions)\u001b[0m\n\u001b[0;32m   4373\u001b[0m \u001b[39mdef\u001b[39;00m \u001b[39mparseImpl\u001b[39m(\u001b[39mself\u001b[39m, instring, loc, doActions\u001b[39m=\u001b[39m\u001b[39mTrue\u001b[39;00m):\n\u001b[0;32m   4374\u001b[0m     \u001b[39mif\u001b[39;00m \u001b[39mself\u001b[39m\u001b[39m.\u001b[39mexpr \u001b[39mis\u001b[39;00m \u001b[39mnot\u001b[39;00m \u001b[39mNone\u001b[39;00m:\n\u001b[1;32m-> 4375\u001b[0m         \u001b[39mreturn\u001b[39;00m \u001b[39mself\u001b[39;49m\u001b[39m.\u001b[39;49mexpr\u001b[39m.\u001b[39;49m_parse(instring, loc, doActions, callPreParse\u001b[39m=\u001b[39;49m\u001b[39mFalse\u001b[39;49;00m)\n\u001b[0;32m   4376\u001b[0m     \u001b[39melse\u001b[39;00m:\n\u001b[0;32m   4377\u001b[0m         \u001b[39mraise\u001b[39;00m ParseException(instring, loc, \u001b[39m\"\u001b[39m\u001b[39mNo expression defined\u001b[39m\u001b[39m\"\u001b[39m, \u001b[39mself\u001b[39m)\n",
      "File \u001b[1;32m~\\AppData\\Local\\Packages\\PythonSoftwareFoundation.Python.3.8_qbz5n2kfra8p0\\LocalCache\\local-packages\\Python38\\site-packages\\pyparsing\\core.py:921\u001b[0m, in \u001b[0;36mParserElement._parseCache\u001b[1;34m(self, instring, loc, doActions, callPreParse)\u001b[0m\n\u001b[0;32m    919\u001b[0m ParserElement\u001b[39m.\u001b[39mpackrat_cache_stats[MISS] \u001b[39m+\u001b[39m\u001b[39m=\u001b[39m \u001b[39m1\u001b[39m\n\u001b[0;32m    920\u001b[0m \u001b[39mtry\u001b[39;00m:\n\u001b[1;32m--> 921\u001b[0m     value \u001b[39m=\u001b[39m \u001b[39mself\u001b[39;49m\u001b[39m.\u001b[39;49m_parseNoCache(instring, loc, doActions, callPreParse)\n\u001b[0;32m    922\u001b[0m \u001b[39mexcept\u001b[39;00m ParseBaseException \u001b[39mas\u001b[39;00m pe:\n\u001b[0;32m    923\u001b[0m     \u001b[39m# cache a copy of the exception, without the traceback\u001b[39;00m\n\u001b[0;32m    924\u001b[0m     cache\u001b[39m.\u001b[39mset(lookup, pe\u001b[39m.\u001b[39m\u001b[39m__class__\u001b[39m(\u001b[39m*\u001b[39mpe\u001b[39m.\u001b[39margs))\n",
      "File \u001b[1;32m~\\AppData\\Local\\Packages\\PythonSoftwareFoundation.Python.3.8_qbz5n2kfra8p0\\LocalCache\\local-packages\\Python38\\site-packages\\pyparsing\\core.py:817\u001b[0m, in \u001b[0;36mParserElement._parseNoCache\u001b[1;34m(self, instring, loc, doActions, callPreParse)\u001b[0m\n\u001b[0;32m    815\u001b[0m \u001b[39mif\u001b[39;00m \u001b[39mself\u001b[39m\u001b[39m.\u001b[39mmayIndexError \u001b[39mor\u001b[39;00m pre_loc \u001b[39m>\u001b[39m\u001b[39m=\u001b[39m len_instring:\n\u001b[0;32m    816\u001b[0m     \u001b[39mtry\u001b[39;00m:\n\u001b[1;32m--> 817\u001b[0m         loc, tokens \u001b[39m=\u001b[39m \u001b[39mself\u001b[39;49m\u001b[39m.\u001b[39;49mparseImpl(instring, pre_loc, doActions)\n\u001b[0;32m    818\u001b[0m     \u001b[39mexcept\u001b[39;00m \u001b[39mIndexError\u001b[39;00m:\n\u001b[0;32m    819\u001b[0m         \u001b[39mraise\u001b[39;00m ParseException(instring, len_instring, \u001b[39mself\u001b[39m\u001b[39m.\u001b[39merrmsg, \u001b[39mself\u001b[39m)\n",
      "File \u001b[1;32m~\\AppData\\Local\\Packages\\PythonSoftwareFoundation.Python.3.8_qbz5n2kfra8p0\\LocalCache\\local-packages\\Python38\\site-packages\\pyparsing\\core.py:4375\u001b[0m, in \u001b[0;36mParseElementEnhance.parseImpl\u001b[1;34m(self, instring, loc, doActions)\u001b[0m\n\u001b[0;32m   4373\u001b[0m \u001b[39mdef\u001b[39;00m \u001b[39mparseImpl\u001b[39m(\u001b[39mself\u001b[39m, instring, loc, doActions\u001b[39m=\u001b[39m\u001b[39mTrue\u001b[39;00m):\n\u001b[0;32m   4374\u001b[0m     \u001b[39mif\u001b[39;00m \u001b[39mself\u001b[39m\u001b[39m.\u001b[39mexpr \u001b[39mis\u001b[39;00m \u001b[39mnot\u001b[39;00m \u001b[39mNone\u001b[39;00m:\n\u001b[1;32m-> 4375\u001b[0m         \u001b[39mreturn\u001b[39;00m \u001b[39mself\u001b[39;49m\u001b[39m.\u001b[39;49mexpr\u001b[39m.\u001b[39;49m_parse(instring, loc, doActions, callPreParse\u001b[39m=\u001b[39;49m\u001b[39mFalse\u001b[39;49;00m)\n\u001b[0;32m   4376\u001b[0m     \u001b[39melse\u001b[39;00m:\n\u001b[0;32m   4377\u001b[0m         \u001b[39mraise\u001b[39;00m ParseException(instring, loc, \u001b[39m\"\u001b[39m\u001b[39mNo expression defined\u001b[39m\u001b[39m\"\u001b[39m, \u001b[39mself\u001b[39m)\n",
      "File \u001b[1;32m~\\AppData\\Local\\Packages\\PythonSoftwareFoundation.Python.3.8_qbz5n2kfra8p0\\LocalCache\\local-packages\\Python38\\site-packages\\pyparsing\\core.py:921\u001b[0m, in \u001b[0;36mParserElement._parseCache\u001b[1;34m(self, instring, loc, doActions, callPreParse)\u001b[0m\n\u001b[0;32m    919\u001b[0m ParserElement\u001b[39m.\u001b[39mpackrat_cache_stats[MISS] \u001b[39m+\u001b[39m\u001b[39m=\u001b[39m \u001b[39m1\u001b[39m\n\u001b[0;32m    920\u001b[0m \u001b[39mtry\u001b[39;00m:\n\u001b[1;32m--> 921\u001b[0m     value \u001b[39m=\u001b[39m \u001b[39mself\u001b[39;49m\u001b[39m.\u001b[39;49m_parseNoCache(instring, loc, doActions, callPreParse)\n\u001b[0;32m    922\u001b[0m \u001b[39mexcept\u001b[39;00m ParseBaseException \u001b[39mas\u001b[39;00m pe:\n\u001b[0;32m    923\u001b[0m     \u001b[39m# cache a copy of the exception, without the traceback\u001b[39;00m\n\u001b[0;32m    924\u001b[0m     cache\u001b[39m.\u001b[39mset(lookup, pe\u001b[39m.\u001b[39m\u001b[39m__class__\u001b[39m(\u001b[39m*\u001b[39mpe\u001b[39m.\u001b[39margs))\n",
      "File \u001b[1;32m~\\AppData\\Local\\Packages\\PythonSoftwareFoundation.Python.3.8_qbz5n2kfra8p0\\LocalCache\\local-packages\\Python38\\site-packages\\pyparsing\\core.py:817\u001b[0m, in \u001b[0;36mParserElement._parseNoCache\u001b[1;34m(self, instring, loc, doActions, callPreParse)\u001b[0m\n\u001b[0;32m    815\u001b[0m \u001b[39mif\u001b[39;00m \u001b[39mself\u001b[39m\u001b[39m.\u001b[39mmayIndexError \u001b[39mor\u001b[39;00m pre_loc \u001b[39m>\u001b[39m\u001b[39m=\u001b[39m len_instring:\n\u001b[0;32m    816\u001b[0m     \u001b[39mtry\u001b[39;00m:\n\u001b[1;32m--> 817\u001b[0m         loc, tokens \u001b[39m=\u001b[39m \u001b[39mself\u001b[39;49m\u001b[39m.\u001b[39;49mparseImpl(instring, pre_loc, doActions)\n\u001b[0;32m    818\u001b[0m     \u001b[39mexcept\u001b[39;00m \u001b[39mIndexError\u001b[39;00m:\n\u001b[0;32m    819\u001b[0m         \u001b[39mraise\u001b[39;00m ParseException(instring, len_instring, \u001b[39mself\u001b[39m\u001b[39m.\u001b[39merrmsg, \u001b[39mself\u001b[39m)\n",
      "File \u001b[1;32m~\\AppData\\Local\\Packages\\PythonSoftwareFoundation.Python.3.8_qbz5n2kfra8p0\\LocalCache\\local-packages\\Python38\\site-packages\\pyparsing\\core.py:3864\u001b[0m, in \u001b[0;36mAnd.parseImpl\u001b[1;34m(self, instring, loc, doActions)\u001b[0m\n\u001b[0;32m   3861\u001b[0m \u001b[39mdef\u001b[39;00m \u001b[39mparseImpl\u001b[39m(\u001b[39mself\u001b[39m, instring, loc, doActions\u001b[39m=\u001b[39m\u001b[39mTrue\u001b[39;00m):\n\u001b[0;32m   3862\u001b[0m     \u001b[39m# pass False as callPreParse arg to _parse for first element, since we already\u001b[39;00m\n\u001b[0;32m   3863\u001b[0m     \u001b[39m# pre-parsed the string as part of our And pre-parsing\u001b[39;00m\n\u001b[1;32m-> 3864\u001b[0m     loc, resultlist \u001b[39m=\u001b[39m \u001b[39mself\u001b[39;49m\u001b[39m.\u001b[39;49mexprs[\u001b[39m0\u001b[39;49m]\u001b[39m.\u001b[39;49m_parse(\n\u001b[0;32m   3865\u001b[0m         instring, loc, doActions, callPreParse\u001b[39m=\u001b[39;49m\u001b[39mFalse\u001b[39;49;00m\n\u001b[0;32m   3866\u001b[0m     )\n\u001b[0;32m   3867\u001b[0m     errorStop \u001b[39m=\u001b[39m \u001b[39mFalse\u001b[39;00m\n\u001b[0;32m   3868\u001b[0m     \u001b[39mfor\u001b[39;00m e \u001b[39min\u001b[39;00m \u001b[39mself\u001b[39m\u001b[39m.\u001b[39mexprs[\u001b[39m1\u001b[39m:]:\n\u001b[0;32m   3869\u001b[0m         \u001b[39m# if isinstance(e, And._ErrorStop):\u001b[39;00m\n",
      "    \u001b[1;31m[... skipping similar frames: ParserElement._parseCache at line 921 (3 times), ParserElement._parseNoCache at line 817 (3 times), ParseElementEnhance.parseImpl at line 4375 (2 times)]\u001b[0m\n",
      "File \u001b[1;32m~\\AppData\\Local\\Packages\\PythonSoftwareFoundation.Python.3.8_qbz5n2kfra8p0\\LocalCache\\local-packages\\Python38\\site-packages\\pyparsing\\core.py:3864\u001b[0m, in \u001b[0;36mAnd.parseImpl\u001b[1;34m(self, instring, loc, doActions)\u001b[0m\n\u001b[0;32m   3861\u001b[0m \u001b[39mdef\u001b[39;00m \u001b[39mparseImpl\u001b[39m(\u001b[39mself\u001b[39m, instring, loc, doActions\u001b[39m=\u001b[39m\u001b[39mTrue\u001b[39;00m):\n\u001b[0;32m   3862\u001b[0m     \u001b[39m# pass False as callPreParse arg to _parse for first element, since we already\u001b[39;00m\n\u001b[0;32m   3863\u001b[0m     \u001b[39m# pre-parsed the string as part of our And pre-parsing\u001b[39;00m\n\u001b[1;32m-> 3864\u001b[0m     loc, resultlist \u001b[39m=\u001b[39m \u001b[39mself\u001b[39;49m\u001b[39m.\u001b[39;49mexprs[\u001b[39m0\u001b[39;49m]\u001b[39m.\u001b[39;49m_parse(\n\u001b[0;32m   3865\u001b[0m         instring, loc, doActions, callPreParse\u001b[39m=\u001b[39;49m\u001b[39mFalse\u001b[39;49;00m\n\u001b[0;32m   3866\u001b[0m     )\n\u001b[0;32m   3867\u001b[0m     errorStop \u001b[39m=\u001b[39m \u001b[39mFalse\u001b[39;00m\n\u001b[0;32m   3868\u001b[0m     \u001b[39mfor\u001b[39;00m e \u001b[39min\u001b[39;00m \u001b[39mself\u001b[39m\u001b[39m.\u001b[39mexprs[\u001b[39m1\u001b[39m:]:\n\u001b[0;32m   3869\u001b[0m         \u001b[39m# if isinstance(e, And._ErrorStop):\u001b[39;00m\n",
      "    \u001b[1;31m[... skipping similar frames: ParserElement._parseCache at line 921 (9 times), ParserElement._parseNoCache at line 817 (9 times), ParseElementEnhance.parseImpl at line 4375 (6 times), And.parseImpl at line 3864 (2 times)]\u001b[0m\n",
      "File \u001b[1;32m~\\AppData\\Local\\Packages\\PythonSoftwareFoundation.Python.3.8_qbz5n2kfra8p0\\LocalCache\\local-packages\\Python38\\site-packages\\pyparsing\\core.py:3864\u001b[0m, in \u001b[0;36mAnd.parseImpl\u001b[1;34m(self, instring, loc, doActions)\u001b[0m\n\u001b[0;32m   3861\u001b[0m \u001b[39mdef\u001b[39;00m \u001b[39mparseImpl\u001b[39m(\u001b[39mself\u001b[39m, instring, loc, doActions\u001b[39m=\u001b[39m\u001b[39mTrue\u001b[39;00m):\n\u001b[0;32m   3862\u001b[0m     \u001b[39m# pass False as callPreParse arg to _parse for first element, since we already\u001b[39;00m\n\u001b[0;32m   3863\u001b[0m     \u001b[39m# pre-parsed the string as part of our And pre-parsing\u001b[39;00m\n\u001b[1;32m-> 3864\u001b[0m     loc, resultlist \u001b[39m=\u001b[39m \u001b[39mself\u001b[39;49m\u001b[39m.\u001b[39;49mexprs[\u001b[39m0\u001b[39;49m]\u001b[39m.\u001b[39;49m_parse(\n\u001b[0;32m   3865\u001b[0m         instring, loc, doActions, callPreParse\u001b[39m=\u001b[39;49m\u001b[39mFalse\u001b[39;49;00m\n\u001b[0;32m   3866\u001b[0m     )\n\u001b[0;32m   3867\u001b[0m     errorStop \u001b[39m=\u001b[39m \u001b[39mFalse\u001b[39;00m\n\u001b[0;32m   3868\u001b[0m     \u001b[39mfor\u001b[39;00m e \u001b[39min\u001b[39;00m \u001b[39mself\u001b[39m\u001b[39m.\u001b[39mexprs[\u001b[39m1\u001b[39m:]:\n\u001b[0;32m   3869\u001b[0m         \u001b[39m# if isinstance(e, And._ErrorStop):\u001b[39;00m\n",
      "    \u001b[1;31m[... skipping similar frames: ParserElement._parseCache at line 921 (2 times), ParserElement._parseNoCache at line 817 (2 times), ParseElementEnhance.parseImpl at line 4375 (1 times)]\u001b[0m\n",
      "File \u001b[1;32m~\\AppData\\Local\\Packages\\PythonSoftwareFoundation.Python.3.8_qbz5n2kfra8p0\\LocalCache\\local-packages\\Python38\\site-packages\\pyparsing\\core.py:4114\u001b[0m, in \u001b[0;36mMatchFirst.parseImpl\u001b[1;34m(self, instring, loc, doActions)\u001b[0m\n\u001b[0;32m   4112\u001b[0m \u001b[39mfor\u001b[39;00m e \u001b[39min\u001b[39;00m \u001b[39mself\u001b[39m\u001b[39m.\u001b[39mexprs:\n\u001b[0;32m   4113\u001b[0m     \u001b[39mtry\u001b[39;00m:\n\u001b[1;32m-> 4114\u001b[0m         \u001b[39mreturn\u001b[39;00m e\u001b[39m.\u001b[39;49m_parse(\n\u001b[0;32m   4115\u001b[0m             instring,\n\u001b[0;32m   4116\u001b[0m             loc,\n\u001b[0;32m   4117\u001b[0m             doActions,\n\u001b[0;32m   4118\u001b[0m         )\n\u001b[0;32m   4119\u001b[0m     \u001b[39mexcept\u001b[39;00m ParseFatalException \u001b[39mas\u001b[39;00m pfe:\n\u001b[0;32m   4120\u001b[0m         pfe\u001b[39m.\u001b[39m__traceback__ \u001b[39m=\u001b[39m \u001b[39mNone\u001b[39;00m\n",
      "    \u001b[1;31m[... skipping similar frames: ParserElement._parseCache at line 921 (1 times), ParserElement._parseNoCache at line 817 (1 times)]\u001b[0m\n",
      "File \u001b[1;32m~\\AppData\\Local\\Packages\\PythonSoftwareFoundation.Python.3.8_qbz5n2kfra8p0\\LocalCache\\local-packages\\Python38\\site-packages\\pyparsing\\core.py:4114\u001b[0m, in \u001b[0;36mMatchFirst.parseImpl\u001b[1;34m(self, instring, loc, doActions)\u001b[0m\n\u001b[0;32m   4112\u001b[0m \u001b[39mfor\u001b[39;00m e \u001b[39min\u001b[39;00m \u001b[39mself\u001b[39m\u001b[39m.\u001b[39mexprs:\n\u001b[0;32m   4113\u001b[0m     \u001b[39mtry\u001b[39;00m:\n\u001b[1;32m-> 4114\u001b[0m         \u001b[39mreturn\u001b[39;00m e\u001b[39m.\u001b[39;49m_parse(\n\u001b[0;32m   4115\u001b[0m             instring,\n\u001b[0;32m   4116\u001b[0m             loc,\n\u001b[0;32m   4117\u001b[0m             doActions,\n\u001b[0;32m   4118\u001b[0m         )\n\u001b[0;32m   4119\u001b[0m     \u001b[39mexcept\u001b[39;00m ParseFatalException \u001b[39mas\u001b[39;00m pfe:\n\u001b[0;32m   4120\u001b[0m         pfe\u001b[39m.\u001b[39m__traceback__ \u001b[39m=\u001b[39m \u001b[39mNone\u001b[39;00m\n",
      "    \u001b[1;31m[... skipping similar frames: ParserElement._parseCache at line 921 (6 times), ParserElement._parseNoCache at line 817 (6 times), MatchFirst.parseImpl at line 4114 (5 times)]\u001b[0m\n",
      "File \u001b[1;32m~\\AppData\\Local\\Packages\\PythonSoftwareFoundation.Python.3.8_qbz5n2kfra8p0\\LocalCache\\local-packages\\Python38\\site-packages\\pyparsing\\core.py:4114\u001b[0m, in \u001b[0;36mMatchFirst.parseImpl\u001b[1;34m(self, instring, loc, doActions)\u001b[0m\n\u001b[0;32m   4112\u001b[0m \u001b[39mfor\u001b[39;00m e \u001b[39min\u001b[39;00m \u001b[39mself\u001b[39m\u001b[39m.\u001b[39mexprs:\n\u001b[0;32m   4113\u001b[0m     \u001b[39mtry\u001b[39;00m:\n\u001b[1;32m-> 4114\u001b[0m         \u001b[39mreturn\u001b[39;00m e\u001b[39m.\u001b[39;49m_parse(\n\u001b[0;32m   4115\u001b[0m             instring,\n\u001b[0;32m   4116\u001b[0m             loc,\n\u001b[0;32m   4117\u001b[0m             doActions,\n\u001b[0;32m   4118\u001b[0m         )\n\u001b[0;32m   4119\u001b[0m     \u001b[39mexcept\u001b[39;00m ParseFatalException \u001b[39mas\u001b[39;00m pfe:\n\u001b[0;32m   4120\u001b[0m         pfe\u001b[39m.\u001b[39m__traceback__ \u001b[39m=\u001b[39m \u001b[39mNone\u001b[39;00m\n",
      "File \u001b[1;32m~\\AppData\\Local\\Packages\\PythonSoftwareFoundation.Python.3.8_qbz5n2kfra8p0\\LocalCache\\local-packages\\Python38\\site-packages\\pyparsing\\core.py:921\u001b[0m, in \u001b[0;36mParserElement._parseCache\u001b[1;34m(self, instring, loc, doActions, callPreParse)\u001b[0m\n\u001b[0;32m    919\u001b[0m ParserElement\u001b[39m.\u001b[39mpackrat_cache_stats[MISS] \u001b[39m+\u001b[39m\u001b[39m=\u001b[39m \u001b[39m1\u001b[39m\n\u001b[0;32m    920\u001b[0m \u001b[39mtry\u001b[39;00m:\n\u001b[1;32m--> 921\u001b[0m     value \u001b[39m=\u001b[39m \u001b[39mself\u001b[39;49m\u001b[39m.\u001b[39;49m_parseNoCache(instring, loc, doActions, callPreParse)\n\u001b[0;32m    922\u001b[0m \u001b[39mexcept\u001b[39;00m ParseBaseException \u001b[39mas\u001b[39;00m pe:\n\u001b[0;32m    923\u001b[0m     \u001b[39m# cache a copy of the exception, without the traceback\u001b[39;00m\n\u001b[0;32m    924\u001b[0m     cache\u001b[39m.\u001b[39mset(lookup, pe\u001b[39m.\u001b[39m\u001b[39m__class__\u001b[39m(\u001b[39m*\u001b[39mpe\u001b[39m.\u001b[39margs))\n",
      "File \u001b[1;32m~\\AppData\\Local\\Packages\\PythonSoftwareFoundation.Python.3.8_qbz5n2kfra8p0\\LocalCache\\local-packages\\Python38\\site-packages\\pyparsing\\core.py:817\u001b[0m, in \u001b[0;36mParserElement._parseNoCache\u001b[1;34m(self, instring, loc, doActions, callPreParse)\u001b[0m\n\u001b[0;32m    815\u001b[0m \u001b[39mif\u001b[39;00m \u001b[39mself\u001b[39m\u001b[39m.\u001b[39mmayIndexError \u001b[39mor\u001b[39;00m pre_loc \u001b[39m>\u001b[39m\u001b[39m=\u001b[39m len_instring:\n\u001b[0;32m    816\u001b[0m     \u001b[39mtry\u001b[39;00m:\n\u001b[1;32m--> 817\u001b[0m         loc, tokens \u001b[39m=\u001b[39m \u001b[39mself\u001b[39;49m\u001b[39m.\u001b[39;49mparseImpl(instring, pre_loc, doActions)\n\u001b[0;32m    818\u001b[0m     \u001b[39mexcept\u001b[39;00m \u001b[39mIndexError\u001b[39;00m:\n\u001b[0;32m    819\u001b[0m         \u001b[39mraise\u001b[39;00m ParseException(instring, len_instring, \u001b[39mself\u001b[39m\u001b[39m.\u001b[39merrmsg, \u001b[39mself\u001b[39m)\n",
      "File \u001b[1;32m~\\AppData\\Local\\Packages\\PythonSoftwareFoundation.Python.3.8_qbz5n2kfra8p0\\LocalCache\\local-packages\\Python38\\site-packages\\pyparsing\\core.py:4375\u001b[0m, in \u001b[0;36mParseElementEnhance.parseImpl\u001b[1;34m(self, instring, loc, doActions)\u001b[0m\n\u001b[0;32m   4373\u001b[0m \u001b[39mdef\u001b[39;00m \u001b[39mparseImpl\u001b[39m(\u001b[39mself\u001b[39m, instring, loc, doActions\u001b[39m=\u001b[39m\u001b[39mTrue\u001b[39;00m):\n\u001b[0;32m   4374\u001b[0m     \u001b[39mif\u001b[39;00m \u001b[39mself\u001b[39m\u001b[39m.\u001b[39mexpr \u001b[39mis\u001b[39;00m \u001b[39mnot\u001b[39;00m \u001b[39mNone\u001b[39;00m:\n\u001b[1;32m-> 4375\u001b[0m         \u001b[39mreturn\u001b[39;00m \u001b[39mself\u001b[39;49m\u001b[39m.\u001b[39;49mexpr\u001b[39m.\u001b[39;49m_parse(instring, loc, doActions, callPreParse\u001b[39m=\u001b[39;49m\u001b[39mFalse\u001b[39;49;00m)\n\u001b[0;32m   4376\u001b[0m     \u001b[39melse\u001b[39;00m:\n\u001b[0;32m   4377\u001b[0m         \u001b[39mraise\u001b[39;00m ParseException(instring, loc, \u001b[39m\"\u001b[39m\u001b[39mNo expression defined\u001b[39m\u001b[39m\"\u001b[39m, \u001b[39mself\u001b[39m)\n",
      "File \u001b[1;32m~\\AppData\\Local\\Packages\\PythonSoftwareFoundation.Python.3.8_qbz5n2kfra8p0\\LocalCache\\local-packages\\Python38\\site-packages\\pyparsing\\core.py:925\u001b[0m, in \u001b[0;36mParserElement._parseCache\u001b[1;34m(self, instring, loc, doActions, callPreParse)\u001b[0m\n\u001b[0;32m    922\u001b[0m \u001b[39mexcept\u001b[39;00m ParseBaseException \u001b[39mas\u001b[39;00m pe:\n\u001b[0;32m    923\u001b[0m     \u001b[39m# cache a copy of the exception, without the traceback\u001b[39;00m\n\u001b[0;32m    924\u001b[0m     cache\u001b[39m.\u001b[39mset(lookup, pe\u001b[39m.\u001b[39m\u001b[39m__class__\u001b[39m(\u001b[39m*\u001b[39mpe\u001b[39m.\u001b[39margs))\n\u001b[1;32m--> 925\u001b[0m     \u001b[39mraise\u001b[39;00m\n\u001b[0;32m    926\u001b[0m \u001b[39melse\u001b[39;00m:\n\u001b[0;32m    927\u001b[0m     cache\u001b[39m.\u001b[39mset(lookup, (value[\u001b[39m0\u001b[39m], value[\u001b[39m1\u001b[39m]\u001b[39m.\u001b[39mcopy(), loc))\n",
      "\u001b[1;31mKeyboardInterrupt\u001b[0m: "
     ]
    }
   ],
   "source": [
    "while clusters[k]:\n",
    "    file = open(directory + \"/tmp_LCS.log\", \"a\")\n",
    "    \n",
    "    resource_2 = clusters[k].pop(0)\n",
    "    graph_2 = graphs[resource_2]\n",
    "    print(\"LCS with resource: \" + str(resource_2) \n",
    "          + \" con dim: \" + str(len(kg_to_rdflib(graph_2, kg_depth))))\n",
    "\n",
    "    # seed\n",
    "    seed = LCS(graph_1, graph_2, depth=2, stop_patterns=stop_patterns, uninformative_triples=preds)\n",
    "    seed.find()\n",
    "              \n",
    "    explored_resoures.append(resource_2)\n",
    "        \n",
    "    print(\"dim LCS itermedio tra \" + str(explored_resoures) + \" \\n--> \" + str(len(seed)))\n",
    "        \n",
    "    del graph_1\n",
    "    del graph_2\n",
    "    gc.collect()\n",
    "        \n",
    "    graph_1 = copy.deepcopy(seed)\n",
    "\n",
    "    print(\"Iterazione: \" + str(iteration) + \", trovato LCS tra: \" + str(explored_resoures))\n",
    "    rdf_to_text(seed, directory, \"turtle\", \"tmp_LCS_\" + str(iteration))\n",
    "    rdf_to_text(seed, directory, \"nt\", \"tmp_LCS_\" + str(iteration))\n",
    "\n",
    "    # gestione numero predicato-oggetto significativi\n",
    "    outputnt = open(directory + '/output_tmp_LCS_' + str(iteration) + '.nt', 'r')\n",
    "    outputietration =  open(directory + '/output_tmp_LCS_' + str(iteration) + '_po_significant.nt', 'a')\n",
    "    filecount = 0\n",
    "    for line in outputnt.readlines():\n",
    "          line = line.replace('<', '').replace('>', '')\n",
    "          s, p, o, _ = shlex.split(line)\n",
    "          if not ('_:blank_' in p) and not ('_:blank_' in o) and ('http' in o):\n",
    "                for goodline in gp:\n",
    "                  if goodline == p:\n",
    "                      outputietration.write(s + ' ' + p + ' ' + o + ' ' + _ + ' ' + '\\n')\n",
    "                      filecount += 1\n",
    "    print('Count significant row: ', filecount)\n",
    "    outputietration.close()\n",
    "    outputnt.close()\n",
    "    \n",
    "    diffcheck = False\n",
    "    # confronto con iterazione precedente dei po significativi\n",
    "    if iteration != 0:\n",
    "      po1 = open(directory + '/output_tmp_LCS_' + str(iteration-1) + '_po_significant.nt', 'r')\n",
    "      po2 = open(directory + '/output_tmp_LCS_' + str(iteration) + '_po_significant.nt', 'r')\n",
    "      outputietrationdifference =  open(directory + '/output_tmp_LCS_' + str(iteration) + '_po_difference.nt', 'a')\n",
    "      for linepo1 in po1.readlines():\n",
    "            linepo1 = linepo1.replace('<', '').replace('>', '')\n",
    "            s, p, o, _ = shlex.split(linepo1)\n",
    "            po2.seek(0)\n",
    "            for linepo2 in po2.readlines():\n",
    "                  linepo2 = linepo2.replace('<', '').replace('>', '')\n",
    "                  s2, p2, o2, dot = shlex.split(linepo2)\n",
    "                  if p != p2 or o != o2:\n",
    "                        outputietrationdifference.write('DIFFERENCE' + '\\n')\n",
    "                        outputietrationdifference.write(s + ' ' + p + ' ' + o + ' ' + _ + ' ' + '\\n')\n",
    "                        outputietrationdifference.write(s2 + ' ' + p2 + ' ' + o2 + ' ' + dot + ' ' + '\\n\\n')\n",
    "                        diffcheck = True\n",
    "\n",
    "      if diffcheck == False:\n",
    "            outputietrationdifference.write('NO DIFFERENCE WAS FOUND')\n",
    "\n",
    "      outputietrationdifference.close()  \n",
    "\n",
    "    del seed\n",
    "    gc.collect()\n",
    "        \n",
    "    file.write(\"Iterazione: \" + str(iteration) +  \" risorse esplorate: \" + str(explored_resoures) + \"\\n\")\n",
    "    file.close()\n",
    "        \n",
    "    iteration += 1\n",
    "\n"
   ]
  },
  {
   "cell_type": "code",
   "execution_count": null,
   "metadata": {
    "collapsed": false,
    "jupyter": {
     "outputs_hidden": false
    },
    "pycharm": {
     "is_executing": false,
     "name": "#%%\n"
    }
   },
   "outputs": [],
   "source": [
    "rdf_to_plot(graph_1, directory)\n",
    "print(\"LCS finale tra le risorse: \" + str(explored_resoures))"
   ]
  },
  {
   "cell_type": "code",
   "execution_count": null,
   "metadata": {
    "collapsed": false,
    "jupyter": {
     "outputs_hidden": false
    },
    "pycharm": {
     "is_executing": false,
     "name": "#%%\n"
    }
   },
   "outputs": [],
   "source": [
    "# SALVATAGGIO DEL GRAFO\n",
    "\n",
    "rdf_to_text(graph_1, directory, 'turtle', 'final_LCS')\n",
    "rdf_to_text(graph_1, directory, 'nt', 'final_LCS')\n",
    "file =  open(directory + \"/final_LCS_resources.log\", \"a\")\n",
    "file.write(str(explored_resoures))"
   ]
  },
  {
   "cell_type": "code",
   "execution_count": null,
   "metadata": {
    "collapsed": false,
    "jupyter": {
     "outputs_hidden": false
    },
    "pycharm": {
     "is_executing": false,
     "name": "#%%\n"
    }
   },
   "outputs": [],
   "source": [
    "file.write(\"\\n ####### \\n\")\n",
    "\n",
    "explored_resources_names = []\n",
    "\n",
    "for drug_index in explored_resoures:\n",
    "    drug_name = get_drug_name(g, drugs[drug_index])\n",
    "    explored_resources_names.extend(drug_name)\n",
    "\n",
    "file.write(str(explored_resources_names))\n",
    "file.close()\n",
    "\n",
    "del g\n",
    "gc.collect()"
   ]
  }
 ],
 "metadata": {
  "kernelspec": {
   "display_name": "Python 3.8.10 64-bit (microsoft store)",
   "language": "python",
   "name": "python3"
  },
  "language_info": {
   "codemirror_mode": {
    "name": "ipython",
    "version": 3
   },
   "file_extension": ".py",
   "mimetype": "text/x-python",
   "name": "python",
   "nbconvert_exporter": "python",
   "pygments_lexer": "ipython3",
   "version": "3.8.10"
  },
  "pycharm": {
   "stem_cell": {
    "cell_type": "raw",
    "metadata": {
     "collapsed": false
    },
    "source": []
   }
  },
  "vscode": {
   "interpreter": {
    "hash": "f337ac061ce9696b0f1ec4c1d557fc964de9fc8c97f461bc871446d45fc96448"
   }
  }
 },
 "nbformat": 4,
 "nbformat_minor": 4
}
